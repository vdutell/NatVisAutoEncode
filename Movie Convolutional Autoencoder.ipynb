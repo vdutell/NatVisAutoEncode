{
 "cells": [
  {
   "cell_type": "code",
   "execution_count": 1,
   "metadata": {},
   "outputs": [
    {
     "name": "stderr",
     "output_type": "stream",
     "text": [
      "/home/vasha/anaconda3/lib/python3.5/site-packages/h5py/__init__.py:34: FutureWarning: Conversion of the second argument of issubdtype from `float` to `np.floating` is deprecated. In future, it will be treated as `np.float64 == np.dtype(float).type`.\n",
      "  from ._conv import register_converters as _register_converters\n"
     ]
    }
   ],
   "source": [
    "#dependencies\n",
    "import os\n",
    "import h5py\n",
    "import pylab as pl\n",
    "import tensorflow as tf\n",
    "import numpy as np\n",
    "import matplotlib.pyplot as plt\n",
    "import scipy as scipy\n",
    "\n",
    "import utils.conversions as cnv\n",
    "import utils.plotutils as plu\n",
    "import utils.movie_plotutils as mplu\n",
    "import utils.imreadin as imr\n",
    "import utils.readMov as rdm\n",
    "import utils.movie_aec as aec\n",
    "import utils.train_model as tm\n",
    "\n",
    "import imp\n",
    "imp.reload(rdm)\n",
    "imp.reload(tm)\n",
    "imp.reload(cnv)\n",
    "imp.reload(mplu)\n",
    "from random import shuffle\n",
    "\n",
    "%matplotlib inline\n",
    "%config InlineBackend.print_figure_kwargs = {'dpi' : 500} #plotting pretty"
   ]
  },
  {
   "cell_type": "code",
   "execution_count": 3,
   "metadata": {},
   "outputs": [
    {
     "name": "stdout",
     "output_type": "stream",
     "text": [
      "(120, 676, 1280)\n",
      "normalizing movie...\n",
      "making patches...\n",
      "(477120, 6, 6, 6)\n",
      "Movie Loaded. Shape is (477120, 6, 6, 6)\n",
      "Done\n"
     ]
    }
   ],
   "source": [
    "imp.reload(rdm)\n",
    "movie_name = 'snow_monkeys' #'snow_monkeys' #\n",
    "pixelpatchsize = 6\n",
    "framepatchsize = 6\n",
    "\n",
    "colorinvert = False\n",
    "\n",
    "#m = imr.load_images('vh_corr', patch_edge_size=8)\n",
    "#del m\n",
    "with tf.device('/cpu:0'):\n",
    "    try:\n",
    "        m\n",
    "        print('Movie Already Loaded.')\n",
    "    except NameError:\n",
    "        m = rdm.get_movie(movie_name,\n",
    "                          pixel_patch_size = pixelpatchsize,\n",
    "                          frame_patch_size = framepatchsize\n",
    "                          )\n",
    "        #m = np.transpose(m, (0, 3, 1, 2)) #change axis to [batchsize, time_patchsize, x_patchsize, y_patchsize]\n",
    "\n",
    "        print(\"Movie Loaded. Shape is \" + str(np.shape(m)))\n",
    "        \n",
    "        #only make anew dict and change these in params dict if we have reloaded images.\n",
    "        params = {} #make a new dictionary\n",
    "        #fill up our new dictionary\n",
    "        params[\"movie_name\"] = movie_name\n",
    "        params['nmovies'] = np.shape(m)[0]\n",
    "        params[\"pixelpatchsize\"] = pixelpatchsize\n",
    "        params[\"framepatchsize\"] = framepatchsize\n",
    "print(\"Done\")"
   ]
  },
  {
   "cell_type": "code",
   "execution_count": null,
   "metadata": {},
   "outputs": [
    {
     "name": "stdout",
     "output_type": "stream",
     "text": [
      "Training 470000 out of 477120 total movies.\n",
      "Compression Level: 0.54\n"
     ]
    }
   ],
   "source": [
    "#fixed parameters\n",
    "params['frames_per_channel'] = params[\"framepatchsize\"]  #OR convolution window (number of frames that project on one channel)\n",
    "params['clipvec_len'] = params['frames_per_channel']*params['pixelpatchsize']*params['pixelpatchsize']\n",
    "\n",
    "params[\"batchsize\"] = 10000\n",
    "params[\"learning_rate\"] = 0.001\n",
    "\n",
    "params[\"iterations\"] = np.int(np.floor(params[\"nmovies\"]/params[\"batchsize\"]))\n",
    "params[\"epochs\"] = 10000\n",
    "\n",
    "\n",
    "params['nonlinearity'] = 'relu'\n",
    "\n",
    "params['nneurons'] = 400\n",
    "#pixelpatchsize**2 * framepatchsize\n",
    "\n",
    "#params for sweeping\n",
    "noise_xs_rs_pairs = [[0.,0.]] #, [1e-1, 5], [1e-1, 2], [1e-1, 3.5], [1e-3,5e-1]]\n",
    "\n",
    "\n",
    "#check to make sure our training numbers are consistent with our dataset\n",
    "params[\"moviesperepoch\"] = params[\"iterations\"] *params[\"batchsize\"]\n",
    "if(params[\"moviesperepoch\"] > params['nmovies']):\n",
    "    print('ERROR! Trying to train on', params[\"moviesperepoch\"],'movies per epoch, but we only have',params['nmovies'],'movie clips!')\n",
    "else:\n",
    "    print('Training',params[\"moviesperepoch\"],'out of',params[\"nmovies\"],'total movies.')\n",
    "    \n",
    "print('Compression Level: {}'.format((params[\"pixelpatchsize\"]**2*params['frames_per_channel'])/params[\"nneurons\"]))"
   ]
  },
  {
   "cell_type": "code",
   "execution_count": null,
   "metadata": {
    "scrolled": true
   },
   "outputs": [
    {
     "name": "stdout",
     "output_type": "stream",
     "text": [
      "Compressing by 0.09 for a total of 400 neurons\n",
      "400 hidden neurons, noise_in at 0.0, noise_out at 0.0\n",
      "Training 47 iterations in 10000 epochs... \n"
     ]
    },
    {
     "name": "stdout",
     "output_type": "stream",
     "text": [
      "Epoch 0/10000 Epoch 1/10000 Epoch 2/10000 Epoch 3/10000 Epoch 4/10000 Epoch 5/10000 Epoch 6/10000 Epoch 7/10000 Epoch 8/10000 Epoch 9/10000 Epoch 10/10000 Epoch 11/10000 Epoch 12/10000 Epoch 13/10000 Epoch 14/10000 Epoch 15/10000 Epoch 16/10000 Epoch 17/10000 Epoch 18/10000 Epoch 19/10000 Epoch 20/10000 Epoch 21/10000 Epoch 22/10000 Epoch 23/10000 Epoch 24/10000 Epoch 25/10000 Epoch 26/10000 Epoch 27/10000 Epoch 28/10000 Epoch 29/10000 Epoch 30/10000 Epoch 31/10000 Epoch 32/10000 Epoch 33/10000 Epoch 34/10000 Epoch 35/10000 Epoch 36/10000 Epoch 37/10000 Epoch 38/10000 Epoch 39/10000 Epoch 40/10000 Epoch 41/10000 Epoch 42/10000 Epoch 43/10000 Epoch 44/10000 Epoch 45/10000 Epoch 46/10000 Epoch 47/10000 Epoch 48/10000 Epoch 49/10000 Epoch 50/10000 Epoch 51/10000 Epoch 52/10000 Epoch 53/10000 Epoch 54/10000 Epoch 55/10000 Epoch 56/10000 Epoch 57/10000 Epoch 58/10000 Epoch 59/10000 Epoch 60/10000 Epoch 61/10000 Epoch 62/10000 Epoch 63/10000 Epoch 64/10000 Epoch 65/10000 Epoch 66/10000 Epoch 67/10000 Epoch 68/10000 Epoch 69/10000 Epoch 70/10000 Epoch 71/10000 Epoch 72/10000 Epoch 73/10000 Epoch 74/10000 Epoch 75/10000 Epoch 76/10000 Epoch 77/10000 Epoch 78/10000 Epoch 79/10000 Epoch 80/10000 Epoch 81/10000 Epoch 82/10000 Epoch 83/10000 Epoch 84/10000 Epoch 85/10000 Epoch 86/10000 Epoch 87/10000 Epoch 88/10000 Epoch 89/10000 Epoch 90/10000 Epoch 91/10000 Epoch 92/10000 Epoch 93/10000 Epoch 94/10000 Epoch 95/10000 Epoch 96/10000 Epoch 97/10000 Epoch 98/10000 Epoch 99/10000 Epoch 100/10000 Epoch 101/10000 Epoch 102/10000 Epoch 103/10000 Epoch 104/10000 Epoch 105/10000 Epoch 106/10000 Epoch 107/10000 Epoch 108/10000 Epoch 109/10000 Epoch 110/10000 Epoch 111/10000 Epoch 112/10000 Epoch 113/10000 Epoch 114/10000 Epoch 115/10000 Epoch 116/10000 Epoch 117/10000 Epoch 118/10000 Epoch 119/10000 Epoch 120/10000 Epoch 121/10000 Epoch 122/10000 Epoch 123/10000 Epoch 124/10000 Epoch 125/10000 Epoch 126/10000 Epoch 127/10000 Epoch 128/10000 Epoch 129/10000 Epoch 130/10000 Epoch 131/10000 Epoch 132/10000 Epoch 133/10000 Epoch 134/10000 Epoch 135/10000 Epoch 136/10000 Epoch 137/10000 Epoch 138/10000 Epoch 139/10000 Epoch 140/10000 Epoch 141/10000 Epoch 142/10000 Epoch 143/10000 Epoch 144/10000 Epoch 145/10000 Epoch 146/10000 Epoch 147/10000 Epoch 148/10000 Epoch 149/10000 Epoch 150/10000 Epoch 151/10000 Epoch 152/10000 Epoch 153/10000 Epoch 154/10000 Epoch 155/10000 Epoch 156/10000 Epoch 157/10000 Epoch 158/10000 Epoch 159/10000 Epoch 160/10000 Epoch 161/10000 Epoch 162/10000 Epoch 163/10000 Epoch 164/10000 Epoch 165/10000 Epoch 166/10000 Epoch 167/10000 Epoch 168/10000 Epoch 169/10000 Epoch 170/10000 Epoch 171/10000 Epoch 172/10000 Epoch 173/10000 Epoch 174/10000 Epoch 175/10000 Epoch 176/10000 Epoch 177/10000 Epoch 178/10000 Epoch 179/10000 Epoch 180/10000 Epoch 181/10000 Epoch 182/10000 Epoch 183/10000 Epoch 184/10000 Epoch 185/10000 Epoch 186/10000 Epoch 187/10000 Epoch 188/10000 Epoch 189/10000 Epoch 190/10000 Epoch 191/10000 Epoch 192/10000 Epoch 193/10000 Epoch 194/10000 Epoch 195/10000 Epoch 196/10000 Epoch 197/10000 Epoch 198/10000 Epoch 199/10000 Epoch 200/10000 Epoch 201/10000 Epoch 202/10000 Epoch 203/10000 Epoch 204/10000 Epoch 205/10000 Epoch 206/10000 Epoch 207/10000 Epoch 208/10000 Epoch 209/10000 Epoch 210/10000 Epoch 211/10000 Epoch 212/10000 Epoch 213/10000 Epoch 214/10000 Epoch 215/10000 Epoch 216/10000 Epoch 217/10000 Epoch 218/10000 Epoch 219/10000 Epoch 220/10000 Epoch 221/10000 Epoch 222/10000 Epoch 223/10000 Epoch 224/10000 Epoch 225/10000 Epoch 226/10000 Epoch 227/10000 Epoch 228/10000 Epoch 229/10000 Epoch 230/10000 Epoch 231/10000 Epoch 232/10000 Epoch 233/10000 Epoch 234/10000 Epoch 235/10000 Epoch 236/10000 Epoch 237/10000 Epoch 238/10000 Epoch 239/10000 Epoch 240/10000 Epoch 241/10000 Epoch 242/10000 Epoch 243/10000 Epoch 244/10000 Epoch 245/10000 Epoch 246/10000 Epoch 247/10000 Epoch 248/10000 Epoch 249/10000 Epoch 250/10000 Epoch 251/10000 Epoch 252/10000 Epoch 253/10000 Epoch 254/10000 Epoch 255/10000 Epoch 256/10000 Epoch 257/10000 Epoch 258/10000 Epoch 259/10000 Epoch 260/10000 Epoch 261/10000 Epoch 262/10000 Epoch 263/10000 Epoch 264/10000 Epoch 265/10000 Epoch 266/10000 Epoch 267/10000 Epoch 268/10000 Epoch 269/10000 Epoch 270/10000 Epoch 271/10000 Epoch 272/10000 Epoch 273/10000 Epoch 274/10000 Epoch 275/10000 Epoch 276/10000 Epoch 277/10000 Epoch 278/10000 Epoch 279/10000 Epoch 280/10000 Epoch 281/10000 Epoch 282/10000 Epoch 283/10000 Epoch 284/10000 Epoch 285/10000 Epoch 286/10000 Epoch 287/10000 Epoch 288/10000 Epoch 289/10000 Epoch 290/10000 Epoch 291/10000 Epoch 292/10000 Epoch 293/10000 Epoch 294/10000 Epoch 295/10000 Epoch 296/10000 Epoch 297/10000 Epoch 298/10000 Epoch 299/10000 Epoch 300/10000 Epoch 301/10000 Epoch 302/10000 Epoch 303/10000 Epoch 304/10000 Epoch 305/10000 Epoch 306/10000 Epoch 307/10000 Epoch 308/10000 Epoch 309/10000 Epoch 310/10000 Epoch 311/10000 Epoch 312/10000 Epoch 313/10000 Epoch 314/10000 Epoch 315/10000 Epoch 316/10000 Epoch 317/10000 Epoch 318/10000 Epoch 319/10000 Epoch 320/10000 Epoch 321/10000 Epoch 322/10000 Epoch 323/10000 Epoch 324/10000 Epoch 325/10000 Epoch 326/10000 Epoch 327/10000 Epoch 328/10000 Epoch 329/10000 Epoch 330/10000 Epoch 331/10000 Epoch 332/10000 Epoch 333/10000 Epoch 334/10000 Epoch 335/10000 Epoch 336/10000 Epoch 337/10000 Epoch 338/10000 Epoch 339/10000 Epoch 340/10000 Epoch 341/10000 Epoch 342/10000 Epoch 343/10000 Epoch 344/10000 Epoch 345/10000 Epoch 346/10000 Epoch 347/10000 Epoch 348/10000 Epoch 349/10000 Epoch 350/10000 Epoch 351/10000 Epoch 352/10000 Epoch 353/10000 Epoch 354/10000 Epoch 355/10000 Epoch 356/10000 Epoch 357/10000 Epoch 358/10000 Epoch 359/10000 Epoch 360/10000 Epoch 361/10000 Epoch 362/10000 Epoch 363/10000 Epoch 364/10000 Epoch 365/10000 Epoch 366/10000 Epoch 367/10000 Epoch 368/10000 Epoch 369/10000 Epoch 370/10000 Epoch 371/10000 Epoch 372/10000 Epoch 373/10000 Epoch 374/10000 Epoch 375/10000 Epoch 376/10000 Epoch 377/10000 Epoch 378/10000 Epoch 379/10000 Epoch 380/10000 Epoch 381/10000 Epoch 382/10000 Epoch 383/10000 Epoch 384/10000 Epoch 385/10000 Epoch 386/10000 Epoch 387/10000 Epoch 388/10000 Epoch 389/10000 Epoch 390/10000 Epoch 391/10000 Epoch 392/10000 Epoch 393/10000 Epoch 394/10000 Epoch 395/10000 Epoch 396/10000 Epoch 397/10000 Epoch 398/10000 Epoch 399/10000 Epoch 400/10000 Epoch 401/10000 Epoch 402/10000 Epoch 403/10000 Epoch 404/10000 Epoch 405/10000 Epoch 406/10000 Epoch 407/10000 Epoch 408/10000 Epoch 409/10000 Epoch 410/10000 Epoch 411/10000 Epoch 412/10000 Epoch 413/10000 Epoch 414/10000 Epoch 415/10000 Epoch 416/10000 Epoch 417/10000 Epoch 418/10000 Epoch 419/10000 Epoch 420/10000 Epoch 421/10000 Epoch 422/10000 Epoch 423/10000 Epoch 424/10000 Epoch 425/10000 Epoch 426/10000 Epoch 427/10000 Epoch 428/10000 Epoch 429/10000 Epoch 430/10000 Epoch 431/10000 Epoch 432/10000 Epoch 433/10000 Epoch 434/10000 Epoch 435/10000 Epoch 436/10000 Epoch 437/10000 Epoch 438/10000 Epoch 439/10000 Epoch 440/10000 Epoch 441/10000 Epoch 442/10000 Epoch 443/10000 Epoch 444/10000 Epoch 445/10000 Epoch 446/10000 Epoch 447/10000 Epoch 448/10000 Epoch 449/10000 Epoch 450/10000 Epoch 451/10000 Epoch 452/10000 Epoch 453/10000 Epoch 454/10000 Epoch 455/10000 Epoch 456/10000 Epoch 457/10000 Epoch 458/10000 Epoch 459/10000 Epoch 460/10000 Epoch 461/10000 Epoch 462/10000 Epoch 463/10000 Epoch 464/10000 Epoch 465/10000 Epoch 466/10000 Epoch 467/10000 Epoch 468/10000 Epoch 469/10000 Epoch 470/10000 Epoch 471/10000 Epoch 472/10000 Epoch 473/10000 Epoch 474/10000 Epoch 475/10000 Epoch 476/10000 Epoch 477/10000 Epoch 478/10000 Epoch 479/10000 Epoch 480/10000 Epoch 481/10000 Epoch 482/10000 Epoch 483/10000 Epoch 484/10000 Epoch 485/10000 Epoch 486/10000 Epoch 487/10000 Epoch 488/10000 Epoch 489/10000 Epoch 490/10000 Epoch 491/10000 Epoch 492/10000 Epoch 493/10000 Epoch 494/10000 Epoch 495/10000 Epoch 496/10000 Epoch 497/10000 Epoch 498/10000 Epoch 499/10000 Epoch 500/10000 Epoch 501/10000 Epoch 502/10000 Epoch 503/10000 Epoch 504/10000 Epoch 505/10000 Epoch 506/10000 Epoch 507/10000 Epoch 508/10000 Epoch 509/10000 Epoch 510/10000 Epoch 511/10000 Epoch 512/10000 Epoch 513/10000 Epoch 514/10000 Epoch 515/10000 Epoch 516/10000 Epoch 517/10000 Epoch 518/10000 "
     ]
    },
    {
     "name": "stdout",
     "output_type": "stream",
     "text": [
      "Epoch 519/10000 Epoch 520/10000 Epoch 521/10000 Epoch 522/10000 Epoch 523/10000 Epoch 524/10000 Epoch 525/10000 Epoch 526/10000 Epoch 527/10000 Epoch 528/10000 Epoch 529/10000 Epoch 530/10000 Epoch 531/10000 Epoch 532/10000 Epoch 533/10000 Epoch 534/10000 Epoch 535/10000 Epoch 536/10000 Epoch 537/10000 Epoch 538/10000 Epoch 539/10000 Epoch 540/10000 Epoch 541/10000 Epoch 542/10000 Epoch 543/10000 Epoch 544/10000 Epoch 545/10000 Epoch 546/10000 Epoch 547/10000 Epoch 548/10000 Epoch 549/10000 Epoch 550/10000 Epoch 551/10000 Epoch 552/10000 Epoch 553/10000 Epoch 554/10000 Epoch 555/10000 Epoch 556/10000 Epoch 557/10000 Epoch 558/10000 Epoch 559/10000 Epoch 560/10000 Epoch 561/10000 Epoch 562/10000 Epoch 563/10000 Epoch 564/10000 Epoch 565/10000 Epoch 566/10000 Epoch 567/10000 Epoch 568/10000 Epoch 569/10000 Epoch 570/10000 Epoch 571/10000 Epoch 572/10000 Epoch 573/10000 Epoch 574/10000 Epoch 575/10000 Epoch 576/10000 Epoch 577/10000 Epoch 578/10000 Epoch 579/10000 Epoch 580/10000 Epoch 581/10000 Epoch 582/10000 Epoch 583/10000 Epoch 584/10000 Epoch 585/10000 Epoch 586/10000 Epoch 587/10000 Epoch 588/10000 Epoch 589/10000 Epoch 590/10000 Epoch 591/10000 Epoch 592/10000 Epoch 593/10000 Epoch 594/10000 Epoch 595/10000 Epoch 596/10000 Epoch 597/10000 Epoch 598/10000 Epoch 599/10000 Epoch 600/10000 Epoch 601/10000 Epoch 602/10000 Epoch 603/10000 Epoch 604/10000 Epoch 605/10000 Epoch 606/10000 Epoch 607/10000 Epoch 608/10000 Epoch 609/10000 Epoch 610/10000 Epoch 611/10000 Epoch 612/10000 Epoch 613/10000 Epoch 614/10000 Epoch 615/10000 Epoch 616/10000 Epoch 617/10000 Epoch 618/10000 Epoch 619/10000 Epoch 620/10000 Epoch 621/10000 Epoch 622/10000 Epoch 623/10000 Epoch 624/10000 Epoch 625/10000 Epoch 626/10000 Epoch 627/10000 Epoch 628/10000 Epoch 629/10000 Epoch 630/10000 Epoch 631/10000 Epoch 632/10000 Epoch 633/10000 Epoch 634/10000 Epoch 635/10000 Epoch 636/10000 Epoch 637/10000 Epoch 638/10000 Epoch 639/10000 Epoch 640/10000 Epoch 641/10000 Epoch 642/10000 Epoch 643/10000 Epoch 644/10000 Epoch 645/10000 Epoch 646/10000 Epoch 647/10000 Epoch 648/10000 Epoch 649/10000 Epoch 650/10000 Epoch 651/10000 Epoch 652/10000 Epoch 653/10000 Epoch 654/10000 Epoch 655/10000 Epoch 656/10000 Epoch 657/10000 Epoch 658/10000 Epoch 659/10000 Epoch 660/10000 Epoch 661/10000 Epoch 662/10000 Epoch 663/10000 Epoch 664/10000 Epoch 665/10000 Epoch 666/10000 Epoch 667/10000 Epoch 668/10000 Epoch 669/10000 Epoch 670/10000 Epoch 671/10000 Epoch 672/10000 Epoch 673/10000 Epoch 674/10000 Epoch 675/10000 Epoch 676/10000 Epoch 677/10000 Epoch 678/10000 Epoch 679/10000 Epoch 680/10000 Epoch 681/10000 Epoch 682/10000 Epoch 683/10000 Epoch 684/10000 Epoch 685/10000 Epoch 686/10000 Epoch 687/10000 Epoch 688/10000 Epoch 689/10000 Epoch 690/10000 Epoch 691/10000 Epoch 692/10000 Epoch 693/10000 Epoch 694/10000 Epoch 695/10000 Epoch 696/10000 Epoch 697/10000 Epoch 698/10000 Epoch 699/10000 Epoch 700/10000 Epoch 701/10000 Epoch 702/10000 Epoch 703/10000 Epoch 704/10000 Epoch 705/10000 Epoch 706/10000 Epoch 707/10000 Epoch 708/10000 Epoch 709/10000 Epoch 710/10000 Epoch 711/10000 Epoch 712/10000 Epoch 713/10000 Epoch 714/10000 Epoch 715/10000 Epoch 716/10000 Epoch 717/10000 Epoch 718/10000 Epoch 719/10000 Epoch 720/10000 Epoch 721/10000 Epoch 722/10000 Epoch 723/10000 Epoch 724/10000 Epoch 725/10000 Epoch 726/10000 Epoch 727/10000 Epoch 728/10000 Epoch 729/10000 Epoch 730/10000 Epoch 731/10000 Epoch 732/10000 Epoch 733/10000 Epoch 734/10000 Epoch 735/10000 Epoch 736/10000 Epoch 737/10000 Epoch 738/10000 Epoch 739/10000 Epoch 740/10000 Epoch 741/10000 Epoch 742/10000 Epoch 743/10000 Epoch 744/10000 Epoch 745/10000 Epoch 746/10000 Epoch 747/10000 Epoch 748/10000 Epoch 749/10000 Epoch 750/10000 Epoch 751/10000 Epoch 752/10000 Epoch 753/10000 Epoch 754/10000 Epoch 755/10000 Epoch 756/10000 Epoch 757/10000 Epoch 758/10000 Epoch 759/10000 Epoch 760/10000 Epoch 761/10000 Epoch 762/10000 Epoch 763/10000 Epoch 764/10000 Epoch 765/10000 Epoch 766/10000 Epoch 767/10000 Epoch 768/10000 Epoch 769/10000 Epoch 770/10000 Epoch 771/10000 Epoch 772/10000 Epoch 773/10000 Epoch 774/10000 Epoch 775/10000 Epoch 776/10000 Epoch 777/10000 Epoch 778/10000 Epoch 779/10000 Epoch 780/10000 Epoch 781/10000 Epoch 782/10000 Epoch 783/10000 Epoch 784/10000 Epoch 785/10000 Epoch 786/10000 Epoch 787/10000 Epoch 788/10000 Epoch 789/10000 Epoch 790/10000 Epoch 791/10000 Epoch 792/10000 Epoch 793/10000 Epoch 794/10000 Epoch 795/10000 Epoch 796/10000 Epoch 797/10000 Epoch 798/10000 Epoch 799/10000 Epoch 800/10000 Epoch 801/10000 Epoch 802/10000 Epoch 803/10000 Epoch 804/10000 Epoch 805/10000 Epoch 806/10000 Epoch 807/10000 Epoch 808/10000 Epoch 809/10000 Epoch 810/10000 Epoch 811/10000 Epoch 812/10000 Epoch 813/10000 Epoch 814/10000 Epoch 815/10000 Epoch 816/10000 Epoch 817/10000 Epoch 818/10000 Epoch 819/10000 Epoch 820/10000 Epoch 821/10000 Epoch 822/10000 Epoch 823/10000 Epoch 824/10000 Epoch 825/10000 Epoch 826/10000 Epoch 827/10000 Epoch 828/10000 Epoch 829/10000 Epoch 830/10000 Epoch 831/10000 Epoch 832/10000 Epoch 833/10000 Epoch 834/10000 Epoch 835/10000 Epoch 836/10000 Epoch 837/10000 Epoch 838/10000 Epoch 839/10000 Epoch 840/10000 Epoch 841/10000 Epoch 842/10000 Epoch 843/10000 Epoch 844/10000 Epoch 845/10000 Epoch 846/10000 Epoch 847/10000 Epoch 848/10000 Epoch 849/10000 Epoch 850/10000 Epoch 851/10000 Epoch 852/10000 Epoch 853/10000 Epoch 854/10000 Epoch 855/10000 Epoch 856/10000 Epoch 857/10000 Epoch 858/10000 Epoch 859/10000 Epoch 860/10000 Epoch 861/10000 Epoch 862/10000 Epoch 863/10000 Epoch 864/10000 Epoch 865/10000 Epoch 866/10000 Epoch 867/10000 Epoch 868/10000 Epoch 869/10000 Epoch 870/10000 Epoch 871/10000 Epoch 872/10000 Epoch 873/10000 Epoch 874/10000 Epoch 875/10000 Epoch 876/10000 Epoch 877/10000 Epoch 878/10000 Epoch 879/10000 Epoch 880/10000 Epoch 881/10000 Epoch 882/10000 Epoch 883/10000 Epoch 884/10000 Epoch 885/10000 Epoch 886/10000 Epoch 887/10000 Epoch 888/10000 Epoch 889/10000 Epoch 890/10000 Epoch 891/10000 Epoch 892/10000 Epoch 893/10000 Epoch 894/10000 Epoch 895/10000 Epoch 896/10000 Epoch 897/10000 Epoch 898/10000 Epoch 899/10000 Epoch 900/10000 Epoch 901/10000 Epoch 902/10000 Epoch 903/10000 Epoch 904/10000 Epoch 905/10000 Epoch 906/10000 Epoch 907/10000 Epoch 908/10000 Epoch 909/10000 Epoch 910/10000 Epoch 911/10000 Epoch 912/10000 Epoch 913/10000 Epoch 914/10000 Epoch 915/10000 Epoch 916/10000 Epoch 917/10000 Epoch 918/10000 Epoch 919/10000 Epoch 920/10000 Epoch 921/10000 Epoch 922/10000 Epoch 923/10000 Epoch 924/10000 Epoch 925/10000 Epoch 926/10000 Epoch 927/10000 Epoch 928/10000 Epoch 929/10000 Epoch 930/10000 Epoch 931/10000 Epoch 932/10000 Epoch 933/10000 Epoch 934/10000 Epoch 935/10000 Epoch 936/10000 Epoch 937/10000 Epoch 938/10000 Epoch 939/10000 Epoch 940/10000 Epoch 941/10000 Epoch 942/10000 Epoch 943/10000 Epoch 944/10000 Epoch 945/10000 Epoch 946/10000 Epoch 947/10000 Epoch 948/10000 Epoch 949/10000 Epoch 950/10000 Epoch 951/10000 Epoch 952/10000 Epoch 953/10000 Epoch 954/10000 Epoch 955/10000 Epoch 956/10000 Epoch 957/10000 Epoch 958/10000 Epoch 959/10000 Epoch 960/10000 Epoch 961/10000 Epoch 962/10000 Epoch 963/10000 Epoch 964/10000 Epoch 965/10000 Epoch 966/10000 Epoch 967/10000 Epoch 968/10000 Epoch 969/10000 Epoch 970/10000 Epoch 971/10000 Epoch 972/10000 Epoch 973/10000 Epoch 974/10000 Epoch 975/10000 Epoch 976/10000 Epoch 977/10000 Epoch 978/10000 Epoch 979/10000 Epoch 980/10000 Epoch 981/10000 Epoch 982/10000 Epoch 983/10000 Epoch 984/10000 Epoch 985/10000 Epoch 986/10000 Epoch 987/10000 Epoch 988/10000 Epoch 989/10000 Epoch 990/10000 Epoch 991/10000 Epoch 992/10000 Epoch 993/10000 Epoch 994/10000 Epoch 995/10000 Epoch 996/10000 Epoch 997/10000 Epoch 998/10000 Epoch 999/10000 Epoch 1000/10000 Epoch 1001/10000 Epoch 1002/10000 Epoch 1003/10000 Epoch 1004/10000 Epoch 1005/10000 Epoch 1006/10000 Epoch 1007/10000 Epoch 1008/10000 Epoch 1009/10000 Epoch 1010/10000 Epoch 1011/10000 Epoch 1012/10000 Epoch 1013/10000 Epoch 1014/10000 Epoch 1015/10000 Epoch 1016/10000 Epoch 1017/10000 Epoch 1018/10000 Epoch 1019/10000 Epoch 1020/10000 Epoch 1021/10000 Epoch 1022/10000 Epoch 1023/10000 Epoch 1024/10000 Epoch 1025/10000 Epoch 1026/10000 Epoch 1027/10000 Epoch 1028/10000 Epoch 1029/10000 "
     ]
    },
    {
     "name": "stdout",
     "output_type": "stream",
     "text": [
      "Epoch 1030/10000 Epoch 1031/10000 Epoch 1032/10000 Epoch 1033/10000 Epoch 1034/10000 Epoch 1035/10000 Epoch 1036/10000 Epoch 1037/10000 Epoch 1038/10000 Epoch 1039/10000 Epoch 1040/10000 Epoch 1041/10000 Epoch 1042/10000 Epoch 1043/10000 Epoch 1044/10000 Epoch 1045/10000 Epoch 1046/10000 Epoch 1047/10000 Epoch 1048/10000 Epoch 1049/10000 Epoch 1050/10000 Epoch 1051/10000 Epoch 1052/10000 Epoch 1053/10000 Epoch 1054/10000 Epoch 1055/10000 Epoch 1056/10000 Epoch 1057/10000 Epoch 1058/10000 Epoch 1059/10000 Epoch 1060/10000 Epoch 1061/10000 Epoch 1062/10000 Epoch 1063/10000 Epoch 1064/10000 Epoch 1065/10000 Epoch 1066/10000 Epoch 1067/10000 Epoch 1068/10000 Epoch 1069/10000 Epoch 1070/10000 Epoch 1071/10000 Epoch 1072/10000 Epoch 1073/10000 Epoch 1074/10000 Epoch 1075/10000 Epoch 1076/10000 Epoch 1077/10000 Epoch 1078/10000 Epoch 1079/10000 Epoch 1080/10000 Epoch 1081/10000 Epoch 1082/10000 Epoch 1083/10000 Epoch 1084/10000 Epoch 1085/10000 Epoch 1086/10000 Epoch 1087/10000 Epoch 1088/10000 Epoch 1089/10000 Epoch 1090/10000 Epoch 1091/10000 Epoch 1092/10000 Epoch 1093/10000 Epoch 1094/10000 Epoch 1095/10000 Epoch 1096/10000 Epoch 1097/10000 Epoch 1098/10000 Epoch 1099/10000 Epoch 1100/10000 Epoch 1101/10000 Epoch 1102/10000 Epoch 1103/10000 Epoch 1104/10000 Epoch 1105/10000 Epoch 1106/10000 Epoch 1107/10000 Epoch 1108/10000 Epoch 1109/10000 Epoch 1110/10000 Epoch 1111/10000 Epoch 1112/10000 Epoch 1113/10000 Epoch 1114/10000 Epoch 1115/10000 Epoch 1116/10000 Epoch 1117/10000 Epoch 1118/10000 Epoch 1119/10000 Epoch 1120/10000 Epoch 1121/10000 Epoch 1122/10000 Epoch 1123/10000 Epoch 1124/10000 Epoch 1125/10000 Epoch 1126/10000 Epoch 1127/10000 Epoch 1128/10000 Epoch 1129/10000 Epoch 1130/10000 Epoch 1131/10000 Epoch 1132/10000 Epoch 1133/10000 Epoch 1134/10000 Epoch 1135/10000 Epoch 1136/10000 Epoch 1137/10000 Epoch 1138/10000 Epoch 1139/10000 Epoch 1140/10000 Epoch 1141/10000 Epoch 1142/10000 Epoch 1143/10000 Epoch 1144/10000 Epoch 1145/10000 Epoch 1146/10000 Epoch 1147/10000 Epoch 1148/10000 Epoch 1149/10000 Epoch 1150/10000 Epoch 1151/10000 Epoch 1152/10000 Epoch 1153/10000 Epoch 1154/10000 Epoch 1155/10000 Epoch 1156/10000 Epoch 1157/10000 Epoch 1158/10000 Epoch 1159/10000 Epoch 1160/10000 Epoch 1161/10000 Epoch 1162/10000 Epoch 1163/10000 Epoch 1164/10000 Epoch 1165/10000 Epoch 1166/10000 Epoch 1167/10000 Epoch 1168/10000 Epoch 1169/10000 Epoch 1170/10000 Epoch 1171/10000 Epoch 1172/10000 Epoch 1173/10000 Epoch 1174/10000 Epoch 1175/10000 Epoch 1176/10000 Epoch 1177/10000 Epoch 1178/10000 Epoch 1179/10000 Epoch 1180/10000 Epoch 1181/10000 Epoch 1182/10000 Epoch 1183/10000 Epoch 1184/10000 Epoch 1185/10000 Epoch 1186/10000 Epoch 1187/10000 Epoch 1188/10000 Epoch 1189/10000 Epoch 1190/10000 Epoch 1191/10000 Epoch 1192/10000 Epoch 1193/10000 Epoch 1194/10000 Epoch 1195/10000 Epoch 1196/10000 Epoch 1197/10000 Epoch 1198/10000 Epoch 1199/10000 Epoch 1200/10000 Epoch 1201/10000 Epoch 1202/10000 Epoch 1203/10000 Epoch 1204/10000 Epoch 1205/10000 Epoch 1206/10000 Epoch 1207/10000 Epoch 1208/10000 Epoch 1209/10000 Epoch 1210/10000 Epoch 1211/10000 Epoch 1212/10000 Epoch 1213/10000 Epoch 1214/10000 Epoch 1215/10000 Epoch 1216/10000 Epoch 1217/10000 Epoch 1218/10000 Epoch 1219/10000 Epoch 1220/10000 Epoch 1221/10000 Epoch 1222/10000 Epoch 1223/10000 Epoch 1224/10000 Epoch 1225/10000 Epoch 1226/10000 Epoch 1227/10000 Epoch 1228/10000 Epoch 1229/10000 Epoch 1230/10000 Epoch 1231/10000 Epoch 1232/10000 Epoch 1233/10000 Epoch 1234/10000 Epoch 1235/10000 Epoch 1236/10000 Epoch 1237/10000 Epoch 1238/10000 Epoch 1239/10000 Epoch 1240/10000 Epoch 1241/10000 Epoch 1242/10000 Epoch 1243/10000 Epoch 1244/10000 Epoch 1245/10000 Epoch 1246/10000 Epoch 1247/10000 Epoch 1248/10000 Epoch 1249/10000 Epoch 1250/10000 Epoch 1251/10000 Epoch 1252/10000 Epoch 1253/10000 Epoch 1254/10000 Epoch 1255/10000 Epoch 1256/10000 Epoch 1257/10000 Epoch 1258/10000 Epoch 1259/10000 Epoch 1260/10000 Epoch 1261/10000 Epoch 1262/10000 Epoch 1263/10000 Epoch 1264/10000 Epoch 1265/10000 Epoch 1266/10000 Epoch 1267/10000 Epoch 1268/10000 Epoch 1269/10000 Epoch 1270/10000 Epoch 1271/10000 Epoch 1272/10000 Epoch 1273/10000 Epoch 1274/10000 Epoch 1275/10000 Epoch 1276/10000 Epoch 1277/10000 Epoch 1278/10000 Epoch 1279/10000 Epoch 1280/10000 Epoch 1281/10000 Epoch 1282/10000 Epoch 1283/10000 Epoch 1284/10000 Epoch 1285/10000 Epoch 1286/10000 Epoch 1287/10000 Epoch 1288/10000 Epoch 1289/10000 Epoch 1290/10000 Epoch 1291/10000 Epoch 1292/10000 Epoch 1293/10000 Epoch 1294/10000 Epoch 1295/10000 Epoch 1296/10000 Epoch 1297/10000 Epoch 1298/10000 Epoch 1299/10000 Epoch 1300/10000 Epoch 1301/10000 Epoch 1302/10000 Epoch 1303/10000 Epoch 1304/10000 Epoch 1305/10000 Epoch 1306/10000 Epoch 1307/10000 Epoch 1308/10000 Epoch 1309/10000 Epoch 1310/10000 Epoch 1311/10000 Epoch 1312/10000 Epoch 1313/10000 Epoch 1314/10000 Epoch 1315/10000 Epoch 1316/10000 Epoch 1317/10000 Epoch 1318/10000 Epoch 1319/10000 Epoch 1320/10000 Epoch 1321/10000 Epoch 1322/10000 Epoch 1323/10000 Epoch 1324/10000 Epoch 1325/10000 Epoch 1326/10000 Epoch 1327/10000 Epoch 1328/10000 Epoch 1329/10000 Epoch 1330/10000 Epoch 1331/10000 Epoch 1332/10000 Epoch 1333/10000 Epoch 1334/10000 Epoch 1335/10000 Epoch 1336/10000 Epoch 1337/10000 Epoch 1338/10000 Epoch 1339/10000 Epoch 1340/10000 Epoch 1341/10000 Epoch 1342/10000 Epoch 1343/10000 Epoch 1344/10000 Epoch 1345/10000 Epoch 1346/10000 Epoch 1347/10000 Epoch 1348/10000 Epoch 1349/10000 Epoch 1350/10000 Epoch 1351/10000 Epoch 1352/10000 Epoch 1353/10000 Epoch 1354/10000 Epoch 1355/10000 Epoch 1356/10000 Epoch 1357/10000 Epoch 1358/10000 Epoch 1359/10000 Epoch 1360/10000 Epoch 1361/10000 Epoch 1362/10000 Epoch 1363/10000 Epoch 1364/10000 Epoch 1365/10000 Epoch 1366/10000 Epoch 1367/10000 Epoch 1368/10000 Epoch 1369/10000 Epoch 1370/10000 Epoch 1371/10000 Epoch 1372/10000 Epoch 1373/10000 Epoch 1374/10000 Epoch 1375/10000 Epoch 1376/10000 Epoch 1377/10000 Epoch 1378/10000 Epoch 1379/10000 Epoch 1380/10000 Epoch 1381/10000 Epoch 1382/10000 Epoch 1383/10000 Epoch 1384/10000 Epoch 1385/10000 Epoch 1386/10000 Epoch 1387/10000 Epoch 1388/10000 Epoch 1389/10000 Epoch 1390/10000 Epoch 1391/10000 Epoch 1392/10000 Epoch 1393/10000 Epoch 1394/10000 Epoch 1395/10000 Epoch 1396/10000 Epoch 1397/10000 Epoch 1398/10000 Epoch 1399/10000 Epoch 1400/10000 Epoch 1401/10000 Epoch 1402/10000 Epoch 1403/10000 Epoch 1404/10000 Epoch 1405/10000 Epoch 1406/10000 Epoch 1407/10000 Epoch 1408/10000 Epoch 1409/10000 Epoch 1410/10000 Epoch 1411/10000 Epoch 1412/10000 Epoch 1413/10000 Epoch 1414/10000 Epoch 1415/10000 Epoch 1416/10000 Epoch 1417/10000 Epoch 1418/10000 Epoch 1419/10000 Epoch 1420/10000 Epoch 1421/10000 Epoch 1422/10000 Epoch 1423/10000 Epoch 1424/10000 Epoch 1425/10000 Epoch 1426/10000 Epoch 1427/10000 Epoch 1428/10000 Epoch 1429/10000 Epoch 1430/10000 Epoch 1431/10000 Epoch 1432/10000 Epoch 1433/10000 Epoch 1434/10000 Epoch 1435/10000 Epoch 1436/10000 Epoch 1437/10000 Epoch 1438/10000 Epoch 1439/10000 Epoch 1440/10000 Epoch 1441/10000 Epoch 1442/10000 Epoch 1443/10000 Epoch 1444/10000 Epoch 1445/10000 Epoch 1446/10000 Epoch 1447/10000 Epoch 1448/10000 Epoch 1449/10000 Epoch 1450/10000 Epoch 1451/10000 Epoch 1452/10000 Epoch 1453/10000 Epoch 1454/10000 Epoch 1455/10000 Epoch 1456/10000 Epoch 1457/10000 Epoch 1458/10000 Epoch 1459/10000 Epoch 1460/10000 Epoch 1461/10000 Epoch 1462/10000 Epoch 1463/10000 Epoch 1464/10000 Epoch 1465/10000 Epoch 1466/10000 Epoch 1467/10000 Epoch 1468/10000 Epoch 1469/10000 Epoch 1470/10000 Epoch 1471/10000 Epoch 1472/10000 Epoch 1473/10000 Epoch 1474/10000 Epoch 1475/10000 Epoch 1476/10000 Epoch 1477/10000 Epoch 1478/10000 Epoch 1479/10000 Epoch 1480/10000 Epoch 1481/10000 Epoch 1482/10000 Epoch 1483/10000 Epoch 1484/10000 Epoch 1485/10000 Epoch 1486/10000 Epoch 1487/10000 Epoch 1488/10000 Epoch 1489/10000 Epoch 1490/10000 Epoch 1491/10000 Epoch 1492/10000 Epoch 1493/10000 Epoch 1494/10000 Epoch 1495/10000 Epoch 1496/10000 Epoch 1497/10000 Epoch 1498/10000 Epoch 1499/10000 Epoch 1500/10000 Epoch 1501/10000 Epoch 1502/10000 Epoch 1503/10000 Epoch 1504/10000 Epoch 1505/10000 Epoch 1506/10000 Epoch 1507/10000 Epoch 1508/10000 Epoch 1509/10000 Epoch 1510/10000 Epoch 1511/10000 "
     ]
    },
    {
     "name": "stdout",
     "output_type": "stream",
     "text": [
      "Epoch 1512/10000 Epoch 1513/10000 Epoch 1514/10000 Epoch 1515/10000 Epoch 1516/10000 Epoch 1517/10000 Epoch 1518/10000 Epoch 1519/10000 Epoch 1520/10000 Epoch 1521/10000 Epoch 1522/10000 Epoch 1523/10000 Epoch 1524/10000 Epoch 1525/10000 Epoch 1526/10000 Epoch 1527/10000 Epoch 1528/10000 Epoch 1529/10000 Epoch 1530/10000 Epoch 1531/10000 Epoch 1532/10000 Epoch 1533/10000 Epoch 1534/10000 Epoch 1535/10000 Epoch 1536/10000 Epoch 1537/10000 Epoch 1538/10000 Epoch 1539/10000 Epoch 1540/10000 Epoch 1541/10000 Epoch 1542/10000 Epoch 1543/10000 Epoch 1544/10000 Epoch 1545/10000 Epoch 1546/10000 Epoch 1547/10000 Epoch 1548/10000 Epoch 1549/10000 Epoch 1550/10000 Epoch 1551/10000 Epoch 1552/10000 Epoch 1553/10000 Epoch 1554/10000 Epoch 1555/10000 Epoch 1556/10000 Epoch 1557/10000 Epoch 1558/10000 Epoch 1559/10000 Epoch 1560/10000 Epoch 1561/10000 Epoch 1562/10000 Epoch 1563/10000 Epoch 1564/10000 Epoch 1565/10000 Epoch 1566/10000 Epoch 1567/10000 Epoch 1568/10000 Epoch 1569/10000 Epoch 1570/10000 Epoch 1571/10000 Epoch 1572/10000 Epoch 1573/10000 Epoch 1574/10000 Epoch 1575/10000 Epoch 1576/10000 Epoch 1577/10000 Epoch 1578/10000 Epoch 1579/10000 Epoch 1580/10000 Epoch 1581/10000 Epoch 1582/10000 Epoch 1583/10000 Epoch 1584/10000 Epoch 1585/10000 Epoch 1586/10000 Epoch 1587/10000 Epoch 1588/10000 Epoch 1589/10000 Epoch 1590/10000 Epoch 1591/10000 Epoch 1592/10000 Epoch 1593/10000 Epoch 1594/10000 Epoch 1595/10000 Epoch 1596/10000 Epoch 1597/10000 Epoch 1598/10000 Epoch 1599/10000 Epoch 1600/10000 Epoch 1601/10000 Epoch 1602/10000 Epoch 1603/10000 Epoch 1604/10000 Epoch 1605/10000 Epoch 1606/10000 Epoch 1607/10000 Epoch 1608/10000 Epoch 1609/10000 Epoch 1610/10000 Epoch 1611/10000 Epoch 1612/10000 Epoch 1613/10000 Epoch 1614/10000 Epoch 1615/10000 Epoch 1616/10000 Epoch 1617/10000 Epoch 1618/10000 Epoch 1619/10000 Epoch 1620/10000 Epoch 1621/10000 Epoch 1622/10000 Epoch 1623/10000 Epoch 1624/10000 Epoch 1625/10000 Epoch 1626/10000 Epoch 1627/10000 Epoch 1628/10000 Epoch 1629/10000 Epoch 1630/10000 Epoch 1631/10000 Epoch 1632/10000 Epoch 1633/10000 Epoch 1634/10000 Epoch 1635/10000 Epoch 1636/10000 Epoch 1637/10000 Epoch 1638/10000 Epoch 1639/10000 Epoch 1640/10000 Epoch 1641/10000 Epoch 1642/10000 Epoch 1643/10000 Epoch 1644/10000 Epoch 1645/10000 Epoch 1646/10000 Epoch 1647/10000 Epoch 1648/10000 Epoch 1649/10000 Epoch 1650/10000 Epoch 1651/10000 Epoch 1652/10000 Epoch 1653/10000 Epoch 1654/10000 Epoch 1655/10000 Epoch 1656/10000 Epoch 1657/10000 Epoch 1658/10000 Epoch 1659/10000 Epoch 1660/10000 Epoch 1661/10000 Epoch 1662/10000 Epoch 1663/10000 Epoch 1664/10000 Epoch 1665/10000 Epoch 1666/10000 Epoch 1667/10000 Epoch 1668/10000 Epoch 1669/10000 Epoch 1670/10000 Epoch 1671/10000 Epoch 1672/10000 Epoch 1673/10000 Epoch 1674/10000 Epoch 1675/10000 Epoch 1676/10000 Epoch 1677/10000 Epoch 1678/10000 Epoch 1679/10000 Epoch 1680/10000 Epoch 1681/10000 Epoch 1682/10000 Epoch 1683/10000 Epoch 1684/10000 Epoch 1685/10000 Epoch 1686/10000 Epoch 1687/10000 Epoch 1688/10000 Epoch 1689/10000 Epoch 1690/10000 Epoch 1691/10000 Epoch 1692/10000 Epoch 1693/10000 Epoch 1694/10000 Epoch 1695/10000 Epoch 1696/10000 Epoch 1697/10000 Epoch 1698/10000 Epoch 1699/10000 Epoch 1700/10000 Epoch 1701/10000 Epoch 1702/10000 Epoch 1703/10000 Epoch 1704/10000 Epoch 1705/10000 Epoch 1706/10000 Epoch 1707/10000 Epoch 1708/10000 "
     ]
    }
   ],
   "source": [
    "#reload\n",
    "imp.reload(aec)\n",
    "imp.reload(tm)\n",
    "imp.reload(mplu)\n",
    "imp.reload(plu)\n",
    "\n",
    "for xs,rs in noise_xs_rs_pairs:\n",
    "    params['noise_x'] = xs\n",
    "    params['noise_r'] = rs\n",
    "\n",
    "    #make our model\n",
    "    aecmodel = aec.movie_aec_model(params)\n",
    "\n",
    "    #train it\n",
    "    [cost_evolution,\n",
    "     activation_evolution,\n",
    "     inweights_evolution,\n",
    "     outweights_evolution,\n",
    "     clips,\n",
    "     recons,\n",
    "     final_inweights,\n",
    "     final_outweights,\n",
    "     final_activations] = tm.train_movie_model(aecmodel, m)\n",
    "\n",
    "    #mplu.save_plots(aecmodel,\n",
    "    #                cost_evolution,\n",
    "    #                activation_evolution,\n",
    "    #                inweights_evolution,\n",
    "    #                outweights_evolution,\n",
    "    #                clips,\n",
    "    #                recons,\n",
    "    #                final_inweights,\n",
    "    #                final_outweights,\n",
    "    #                final_activations)\n",
    "\n",
    "    print('All Done!')"
   ]
  },
  {
   "cell_type": "code",
   "execution_count": null,
   "metadata": {},
   "outputs": [],
   "source": [
    "print(final_inweights.shape)\n",
    "print(final_outweights.shape)"
   ]
  },
  {
   "cell_type": "code",
   "execution_count": null,
   "metadata": {},
   "outputs": [],
   "source": [
    "plt.hist(final_outweights.flatten())"
   ]
  },
  {
   "cell_type": "code",
   "execution_count": null,
   "metadata": {},
   "outputs": [],
   "source": [
    "plt.plot(np.log(np.mean(cost_evolution,axis=2).flatten()))"
   ]
  },
  {
   "cell_type": "code",
   "execution_count": null,
   "metadata": {},
   "outputs": [],
   "source": [
    "#test = final_outweights.T\n",
    "#print(np.shape(test))\n",
    "print(final_outweights.shape)\n",
    "mplu.plot_temporal_weights(final_outweights[...,0].T);"
   ]
  },
  {
   "cell_type": "code",
   "execution_count": null,
   "metadata": {},
   "outputs": [],
   "source": [
    "imp.reload(mplu)\n",
    "imp.reload(plu)\n",
    "#plu.plot_tiled_rfs(np.rollaxis(inweights_evolution[-1][0,:,:,:],2,0))\n",
    "#mplu.plot_temporal_weights(np.rollaxis(inweights_evolution[-1][0,:,:,:],2,0))\n",
    "\n",
    "#print(inweights_evolution.shape)\n",
    "#test = inweights_evolution[-1].T\n",
    "test = outweights_evolution[-1]\n",
    "print(test.shape)\n",
    "#test = np.rollaxis(test[0,:,:,:],2,0)\n",
    "plu.plot_tiled_rfs(test)\n",
    "#print(test)\n",
    "#mplu.plot_temporal_weights(final_outweights);\n",
    "#plu.plot_tiled_rfs()"
   ]
  },
  {
   "cell_type": "code",
   "execution_count": null,
   "metadata": {},
   "outputs": [],
   "source": [
    "print(final_inweights.shape)\n",
    "print(final_outweights.shape)\n",
    "plu.plot_tiled_rfs(final_inweights[-1].T)\n",
    "plt.show()\n",
    "plu.plot_tiled_rfs(final_outweights[...,-1])"
   ]
  },
  {
   "cell_type": "code",
   "execution_count": null,
   "metadata": {},
   "outputs": [],
   "source": [
    "imp.reload(mplu)\n",
    "imp.reload(plu)\n",
    "print(final_inweights.shape)\n",
    "#mplu.plot_temporal_weights(final_inweights);\n",
    "#plu.plot_tiled_rfs(np.rollaxis(final_inweights[0,:,:,:],2,0))\n",
    "\n",
    "#plt.figure(figsize=(10,3))\n",
    "#test = np.transpose(final_inweights,axes=(0,2,1,3))\n",
    "#print(test.shape)\n",
    "#mplu.plot_temporal_weights(final_outweights.T);\n",
    "mplu.plot_temporal_weights(final_inweights);\n",
    "#plu.plot_tiled_rfs(np.rollaxis(test[0,:,:,:],2,0))\n"
   ]
  },
  {
   "cell_type": "code",
   "execution_count": null,
   "metadata": {},
   "outputs": [],
   "source": [
    "imp.reload(mplu)\n",
    "animation = mplu.weights_movieclip(final_outweights.T);\n",
    "#animation.ipython_display(fps=20, loop=True, autoplay=True)\n",
    "#from IPython.display import HTML\n",
    "#HTML('<img src=\"./weight_movie.gif>')"
   ]
  },
  {
   "cell_type": "code",
   "execution_count": null,
   "metadata": {},
   "outputs": [],
   "source": [
    "print(final_inweights[-1].shape)\n",
    "p = plu.pad_data(final_inweights[-1].T)\n",
    "plt.imshow(p,cmap='Greys_r')"
   ]
  },
  {
   "cell_type": "code",
   "execution_count": null,
   "metadata": {},
   "outputs": [],
   "source": [
    "mplu.plot_temporal_weights(np.transpose(final_inweights,axes=(0,2,1,3)));"
   ]
  },
  {
   "cell_type": "code",
   "execution_count": null,
   "metadata": {},
   "outputs": [],
   "source": [
    "##TWO BASIS VECTORS##\n",
    "mplu.plot_mov_recon(final_outweights.T[:,:,:,8],final_outweights.T[:,:,:,20],nframes=params['frames_per_channel']);\n"
   ]
  },
  {
   "cell_type": "code",
   "execution_count": null,
   "metadata": {},
   "outputs": [],
   "source": [
    "##TWO BASIS VECTORS##\n",
    "mplu.plot_mov_recon(test[2,:,:,:],final_inweights[2,:,:,:],nframes=params['frames_per_channel']);\n"
   ]
  },
  {
   "cell_type": "code",
   "execution_count": null,
   "metadata": {},
   "outputs": [],
   "source": [
    "#diff = final_inweights - inweights_evolution[1]\n",
    "#print(diff.shape)\n",
    "print(final_inweights.shape)\n",
    "for i in range(final_inweights.shape[3]):\n",
    "    sbplt = np.sqrt(final_inweights.shape[3])\n",
    "    plt.subplot(sbplt,sbplt,i+1)\n",
    "    plt.imshow(np.linalg.inv(final_outweights.T[0,:,:,i]),cmap='Greys_r')\n",
    "    #plt.imshow(final_inweights[2,:,:,i],cmap='Greys_r')\n",
    "    #plt.imshow(test,cmap='Greys_r')\n",
    "    plt.xticks([])\n",
    "    plt.yticks([])\n"
   ]
  },
  {
   "cell_type": "code",
   "execution_count": null,
   "metadata": {},
   "outputs": [],
   "source": [
    "print(final_inweights.shape)\n",
    "print(final_outweights.shape)\n",
    "print(np.array(recons).shape)\n",
    "print(np.array(clips).shape)"
   ]
  },
  {
   "cell_type": "code",
   "execution_count": null,
   "metadata": {},
   "outputs": [],
   "source": [
    "randomclipindex = np.random.randint(np.shape(clips[0])[0])\n",
    "\n",
    "#print the cost of this instance\n",
    "print(np.mean(np.log1p(clips[-1][randomclipindex,:,:,:] - recons[-1][randomclipindex,:,:,:])))\n",
    "\n",
    "mplu.plot_mov_recon(clips[-1][randomclipindex,:,:,:],recons[-1][randomclipindex,:,:,:],nframes=5);"
   ]
  },
  {
   "cell_type": "code",
   "execution_count": null,
   "metadata": {},
   "outputs": [],
   "source": [
    "##Check norm of weights\n",
    "plt.plot(np.linalg.norm(final_inweights.reshape(8*64,1000), ord=2, axis=0))"
   ]
  },
  {
   "cell_type": "code",
   "execution_count": null,
   "metadata": {},
   "outputs": [],
   "source": [
    "print(inweights_evolution[-1].T.shape)\n",
    "#plu.plot_tiled_rfs(inweights_evolution[-1].T[:,:,:,0])\n",
    "padded_wv = plu.pad_data(inweights_evolution[-1].T[:,:,:,0])\n",
    "print(padded_wv.shape)\n",
    "plt.imshow(padded_wv)"
   ]
  },
  {
   "cell_type": "code",
   "execution_count": null,
   "metadata": {},
   "outputs": [],
   "source": [
    "import imageio\n",
    "images = []\n",
    "\n",
    "for i in range(np.shape(final_inweights)[3]):\n",
    "    basisfun = plt.imshow(final_inweights[0,:,:,i],cmap='Greys_r');\n",
    "    images.append(basisfun)\n",
    "imageio.mimsave('test.gif', images)"
   ]
  },
  {
   "cell_type": "code",
   "execution_count": null,
   "metadata": {},
   "outputs": [],
   "source": []
  },
  {
   "cell_type": "code",
   "execution_count": null,
   "metadata": {},
   "outputs": [],
   "source": [
    "p = plt.errorbar(np.arange(len(cost_evolution)),\n",
    "                 np.log(np.mean(np.array(cost_evolution),axis=1)),\n",
    "                 yerr=np.log(np.std(np.array(cost_evolution),axis=1)));\n",
    "plt.title(\"Log-Cost Evolution Over Iterations (Errorbar = 1SD)\")"
   ]
  },
  {
   "cell_type": "code",
   "execution_count": null,
   "metadata": {},
   "outputs": [],
   "source": [
    "np.shape(np.array(activation_evolution))"
   ]
  },
  {
   "cell_type": "code",
   "execution_count": null,
   "metadata": {},
   "outputs": [],
   "source": [
    "p = plt.errorbar(np.arange(len(activation_evolution)),\n",
    "                 np.array(activation_evolution),\n",
    "                 yerr=np.std(np.array(activation_evolution),axis=0));\n",
    "plt.title('Evolution of Activation over Learning')"
   ]
  },
  {
   "cell_type": "code",
   "execution_count": null,
   "metadata": {},
   "outputs": [],
   "source": [
    "plt.imshow(recons[0][randomclipindex],cmap=\"Greys_r\")\n",
    "plt.colorbar()"
   ]
  },
  {
   "cell_type": "code",
   "execution_count": null,
   "metadata": {},
   "outputs": [],
   "source": [
    "plt.imshow(clips[0][randomclipindex],cmap=\"Greys_r\")\n",
    "plt.colorbar()"
   ]
  },
  {
   "cell_type": "code",
   "execution_count": null,
   "metadata": {},
   "outputs": [],
   "source": [
    "\n",
    "np.shape(final_inweights)"
   ]
  },
  {
   "cell_type": "code",
   "execution_count": null,
   "metadata": {},
   "outputs": [],
   "source": [
    "np.shape(inweights_evolution)"
   ]
  },
  {
   "cell_type": "code",
   "execution_count": null,
   "metadata": {},
   "outputs": [],
   "source": []
  },
  {
   "cell_type": "code",
   "execution_count": null,
   "metadata": {},
   "outputs": [],
   "source": [
    "import sklearn as skl\n",
    "\n",
    "npatches = 1000\n",
    "\n",
    "test = m[0:npatches,:5,:,:].reshape((npatches,-1))\n",
    "print(test.shape)\n",
    "cov_mat = np.cov(test)\n",
    "eig_val, eig_vec = np.linalg.eigh(cov_mat)\n",
    "print(eig_val)\n",
    "print(np.shape(eig_val))\n",
    "\n",
    "invcovmat = eig_vec\n",
    "#recon_val, recon_vec = np.linalg.eig(invcovmat)\n",
    "\n",
    "#recon_vec\n",
    "\n",
    "#pca = skl.decomposition.PCA()\n",
    "#pca.fit(test)\n",
    "#np.pca(test).shape\n",
    "#pca"
   ]
  },
  {
   "cell_type": "code",
   "execution_count": null,
   "metadata": {},
   "outputs": [],
   "source": []
  },
  {
   "cell_type": "code",
   "execution_count": null,
   "metadata": {},
   "outputs": [],
   "source": []
  },
  {
   "cell_type": "code",
   "execution_count": null,
   "metadata": {},
   "outputs": [],
   "source": []
  },
  {
   "cell_type": "code",
   "execution_count": null,
   "metadata": {},
   "outputs": [],
   "source": []
  },
  {
   "cell_type": "code",
   "execution_count": null,
   "metadata": {
    "scrolled": true
   },
   "outputs": [],
   "source": []
  },
  {
   "cell_type": "code",
   "execution_count": null,
   "metadata": {},
   "outputs": [],
   "source": []
  },
  {
   "cell_type": "code",
   "execution_count": null,
   "metadata": {},
   "outputs": [],
   "source": []
  },
  {
   "cell_type": "code",
   "execution_count": null,
   "metadata": {},
   "outputs": [],
   "source": []
  }
 ],
 "metadata": {
  "anaconda-cloud": {},
  "kernelspec": {
   "display_name": "Python [default]",
   "language": "python",
   "name": "python3"
  },
  "language_info": {
   "codemirror_mode": {
    "name": "ipython",
    "version": 3
   },
   "file_extension": ".py",
   "mimetype": "text/x-python",
   "name": "python",
   "nbconvert_exporter": "python",
   "pygments_lexer": "ipython3",
   "version": "3.5.4"
  }
 },
 "nbformat": 4,
 "nbformat_minor": 2
}
