{
 "cells": [
  {
   "cell_type": "code",
   "execution_count": 1,
   "metadata": {},
   "outputs": [
    {
     "name": "stderr",
     "output_type": "stream",
     "text": [
      "/home/vasha/anaconda3/lib/python3.5/site-packages/h5py/__init__.py:34: FutureWarning: Conversion of the second argument of issubdtype from `float` to `np.floating` is deprecated. In future, it will be treated as `np.float64 == np.dtype(float).type`.\n",
      "  from ._conv import register_converters as _register_converters\n"
     ]
    }
   ],
   "source": [
    "#dependencies\n",
    "import os\n",
    "import h5py\n",
    "import pylab as pl\n",
    "import tensorflow as tf\n",
    "import numpy as np\n",
    "import matplotlib.pyplot as plt\n",
    "import scipy as scipy\n",
    "\n",
    "import utils.conversions as cnv\n",
    "import utils.plotutils as plu\n",
    "import utils.movie_plotutils as mplu\n",
    "import utils.imreadin as imr\n",
    "import utils.readMov as rdm\n",
    "import utils.movie_aec as aec\n",
    "import utils.train_model as tm\n",
    "\n",
    "import imp\n",
    "imp.reload(rdm)\n",
    "imp.reload(tm)\n",
    "imp.reload(cnv)\n",
    "imp.reload(mplu)\n",
    "from random import shuffle\n",
    "\n",
    "%matplotlib inline\n",
    "%config InlineBackend.print_figure_kwargs = {'dpi' : 500} #plotting pretty"
   ]
  },
  {
   "cell_type": "code",
   "execution_count": 2,
   "metadata": {},
   "outputs": [
    {
     "name": "stdout",
     "output_type": "stream",
     "text": [
      "(120, 676, 1280)\n",
      "normalizing movie...\n",
      "making patches...\n",
      "(477120, 6, 6, 6)\n",
      "Movie Loaded. Shape is (477120, 6, 6, 6)\n",
      "Done\n"
     ]
    }
   ],
   "source": [
    "imp.reload(rdm)\n",
    "movie_name = 'snow_monkeys' #'snow_monkeys' #\n",
    "pixelpatchsize = 6\n",
    "framepatchsize = 6\n",
    "\n",
    "colorinvert = False\n",
    "\n",
    "#m = imr.load_images('vh_corr', patch_edge_size=8)\n",
    "#del m\n",
    "with tf.device('/cpu:0'):\n",
    "    try:\n",
    "        m\n",
    "        print('Movie Already Loaded.')\n",
    "    except NameError:\n",
    "        m = rdm.get_movie(movie_name,\n",
    "                          pixel_patch_size = pixelpatchsize,\n",
    "                          frame_patch_size = framepatchsize\n",
    "                          )\n",
    "        #m = np.transpose(m, (0, 3, 1, 2)) #change axis to [batchsize, time_patchsize, x_patchsize, y_patchsize]\n",
    "\n",
    "        print(\"Movie Loaded. Shape is \" + str(np.shape(m)))\n",
    "        \n",
    "        #only make anew dict and change these in params dict if we have reloaded images.\n",
    "        params = {} #make a new dictionary\n",
    "        #fill up our new dictionary\n",
    "        params[\"movie_name\"] = movie_name\n",
    "        params['nmovies'] = np.shape(m)[0]\n",
    "        params[\"pixelpatchsize\"] = pixelpatchsize\n",
    "        params[\"framepatchsize\"] = framepatchsize\n",
    "print(\"Done\")"
   ]
  },
  {
   "cell_type": "code",
   "execution_count": 14,
   "metadata": {},
   "outputs": [
    {
     "name": "stdout",
     "output_type": "stream",
     "text": [
      "Training 470000 out of 477120 total movies.\n",
      "Compression Level: 0.54\n"
     ]
    }
   ],
   "source": [
    "#fixed parameters\n",
    "params['frames_per_channel'] = params[\"framepatchsize\"]  #OR convolution window (number of frames that project on one channel)\n",
    "params['clipvec_len'] = params['frames_per_channel']*params['pixelpatchsize']*params['pixelpatchsize']\n",
    "\n",
    "params[\"batchsize\"] = 10000\n",
    "params[\"learning_rate\"] = 0.001\n",
    "\n",
    "params[\"iterations\"] = np.int(np.floor(params[\"nmovies\"]/params[\"batchsize\"]))\n",
    "params[\"epochs\"] = 4000\n",
    "\n",
    "\n",
    "params['nonlinearity'] = 'relu'\n",
    "\n",
    "params['nneurons'] = 400\n",
    "#pixelpatchsize**2 * framepatchsize\n",
    "\n",
    "#params for sweeping\n",
    "noise_xs_rs_pairs = [[0.,0.]] #, [1e-1, 5], [1e-1, 2], [1e-1, 3.5], [1e-3,5e-1]]\n",
    "\n",
    "\n",
    "#check to make sure our training numbers are consistent with our dataset\n",
    "params[\"moviesperepoch\"] = params[\"iterations\"] *params[\"batchsize\"]\n",
    "if(params[\"moviesperepoch\"] > params['nmovies']):\n",
    "    print('ERROR! Trying to train on', params[\"moviesperepoch\"],'movies per epoch, but we only have',params['nmovies'],'movie clips!')\n",
    "else:\n",
    "    print('Training',params[\"moviesperepoch\"],'out of',params[\"nmovies\"],'total movies.')\n",
    "    \n",
    "print('Compression Level: {}'.format((params[\"pixelpatchsize\"]**2*params['frames_per_channel'])/params[\"nneurons\"]))"
   ]
  },
  {
   "cell_type": "code",
   "execution_count": null,
   "metadata": {
    "scrolled": true
   },
   "outputs": [
    {
     "name": "stdout",
     "output_type": "stream",
     "text": [
      "Compressing by 0.09 for a total of 400 neurons\n",
      "400 hidden neurons, noise_in at 0.0, noise_out at 0.0\n",
      "Training 47 iterations in 4000 epochs... \n"
     ]
    },
    {
     "name": "stdout",
     "output_type": "stream",
     "text": [
      "Epoch 0/4000 Epoch 1/4000 Epoch 2/4000 Epoch 3/4000 Epoch 4/4000 Epoch 5/4000 Epoch 6/4000 Epoch 7/4000 Epoch 8/4000 Epoch 9/4000 Epoch 10/4000 Epoch 11/4000 Epoch 12/4000 Epoch 13/4000 Epoch 14/4000 Epoch 15/4000 Epoch 16/4000 Epoch 17/4000 Epoch 18/4000 Epoch 19/4000 Epoch 20/4000 Epoch 21/4000 Epoch 22/4000 Epoch 23/4000 Epoch 24/4000 Epoch 25/4000 Epoch 26/4000 Epoch 27/4000 Epoch 28/4000 Epoch 29/4000 Epoch 30/4000 Epoch 31/4000 Epoch 32/4000 Epoch 33/4000 Epoch 34/4000 Epoch 35/4000 Epoch 36/4000 Epoch 37/4000 Epoch 38/4000 Epoch 39/4000 Epoch 40/4000 Epoch 41/4000 Epoch 42/4000 Epoch 43/4000 Epoch 44/4000 Epoch 45/4000 Epoch 46/4000 Epoch 47/4000 Epoch 48/4000 Epoch 49/4000 Epoch 50/4000 Epoch 51/4000 Epoch 52/4000 Epoch 53/4000 Epoch 54/4000 Epoch 55/4000 Epoch 56/4000 Epoch 57/4000 Epoch 58/4000 Epoch 59/4000 Epoch 60/4000 Epoch 61/4000 Epoch 62/4000 Epoch 63/4000 Epoch 64/4000 Epoch 65/4000 Epoch 66/4000 Epoch 67/4000 Epoch 68/4000 Epoch 69/4000 Epoch 70/4000 Epoch 71/4000 Epoch 72/4000 Epoch 73/4000 Epoch 74/4000 Epoch 75/4000 Epoch 76/4000 Epoch 77/4000 Epoch 78/4000 Epoch 79/4000 Epoch 80/4000 Epoch 81/4000 Epoch 82/4000 Epoch 83/4000 Epoch 84/4000 Epoch 85/4000 Epoch 86/4000 Epoch 87/4000 Epoch 88/4000 Epoch 89/4000 Epoch 90/4000 Epoch 91/4000 Epoch 92/4000 Epoch 93/4000 Epoch 94/4000 Epoch 95/4000 Epoch 96/4000 Epoch 97/4000 Epoch 98/4000 Epoch 99/4000 Epoch 100/4000 Epoch 101/4000 Epoch 102/4000 Epoch 103/4000 Epoch 104/4000 Epoch 105/4000 Epoch 106/4000 Epoch 107/4000 Epoch 108/4000 Epoch 109/4000 Epoch 110/4000 Epoch 111/4000 Epoch 112/4000 Epoch 113/4000 Epoch 114/4000 Epoch 115/4000 Epoch 116/4000 Epoch 117/4000 Epoch 118/4000 Epoch 119/4000 Epoch 120/4000 Epoch 121/4000 Epoch 122/4000 Epoch 123/4000 Epoch 124/4000 Epoch 125/4000 Epoch 126/4000 Epoch 127/4000 Epoch 128/4000 Epoch 129/4000 Epoch 130/4000 Epoch 131/4000 Epoch 132/4000 Epoch 133/4000 Epoch 134/4000 Epoch 135/4000 Epoch 136/4000 Epoch 137/4000 Epoch 138/4000 Epoch 139/4000 Epoch 140/4000 Epoch 141/4000 Epoch 142/4000 Epoch 143/4000 Epoch 144/4000 Epoch 145/4000 Epoch 146/4000 Epoch 147/4000 Epoch 148/4000 Epoch 149/4000 Epoch 150/4000 Epoch 151/4000 Epoch 152/4000 Epoch 153/4000 Epoch 154/4000 Epoch 155/4000 Epoch 156/4000 Epoch 157/4000 Epoch 158/4000 Epoch 159/4000 Epoch 160/4000 Epoch 161/4000 Epoch 162/4000 Epoch 163/4000 Epoch 164/4000 Epoch 165/4000 Epoch 166/4000 Epoch 167/4000 Epoch 168/4000 Epoch 169/4000 Epoch 170/4000 Epoch 171/4000 Epoch 172/4000 Epoch 173/4000 Epoch 174/4000 Epoch 175/4000 Epoch 176/4000 Epoch 177/4000 Epoch 178/4000 Epoch 179/4000 Epoch 180/4000 Epoch 181/4000 Epoch 182/4000 Epoch 183/4000 Epoch 184/4000 Epoch 185/4000 Epoch 186/4000 Epoch 187/4000 Epoch 188/4000 Epoch 189/4000 Epoch 190/4000 Epoch 191/4000 Epoch 192/4000 Epoch 193/4000 Epoch 194/4000 Epoch 195/4000 Epoch 196/4000 Epoch 197/4000 Epoch 198/4000 Epoch 199/4000 Epoch 200/4000 Epoch 201/4000 Epoch 202/4000 Epoch 203/4000 Epoch 204/4000 Epoch 205/4000 Epoch 206/4000 Epoch 207/4000 Epoch 208/4000 Epoch 209/4000 Epoch 210/4000 Epoch 211/4000 Epoch 212/4000 Epoch 213/4000 Epoch 214/4000 Epoch 215/4000 Epoch 216/4000 Epoch 217/4000 Epoch 218/4000 Epoch 219/4000 Epoch 220/4000 Epoch 221/4000 Epoch 222/4000 Epoch 223/4000 Epoch 224/4000 Epoch 225/4000 Epoch 226/4000 Epoch 227/4000 Epoch 228/4000 Epoch 229/4000 Epoch 230/4000 Epoch 231/4000 Epoch 232/4000 Epoch 233/4000 Epoch 234/4000 Epoch 235/4000 Epoch 236/4000 Epoch 237/4000 Epoch 238/4000 Epoch 239/4000 Epoch 240/4000 Epoch 241/4000 Epoch 242/4000 Epoch 243/4000 Epoch 244/4000 Epoch 245/4000 Epoch 246/4000 Epoch 247/4000 Epoch 248/4000 Epoch 249/4000 Epoch 250/4000 Epoch 251/4000 Epoch 252/4000 Epoch 253/4000 Epoch 254/4000 Epoch 255/4000 Epoch 256/4000 Epoch 257/4000 Epoch 258/4000 Epoch 259/4000 Epoch 260/4000 Epoch 261/4000 Epoch 262/4000 Epoch 263/4000 Epoch 264/4000 Epoch 265/4000 Epoch 266/4000 Epoch 267/4000 Epoch 268/4000 Epoch 269/4000 Epoch 270/4000 Epoch 271/4000 Epoch 272/4000 Epoch 273/4000 Epoch 274/4000 Epoch 275/4000 Epoch 276/4000 Epoch 277/4000 Epoch 278/4000 Epoch 279/4000 Epoch 280/4000 Epoch 281/4000 Epoch 282/4000 Epoch 283/4000 Epoch 284/4000 Epoch 285/4000 Epoch 286/4000 Epoch 287/4000 Epoch 288/4000 Epoch 289/4000 Epoch 290/4000 Epoch 291/4000 Epoch 292/4000 Epoch 293/4000 Epoch 294/4000 Epoch 295/4000 Epoch 296/4000 Epoch 297/4000 Epoch 298/4000 Epoch 299/4000 Epoch 300/4000 Epoch 301/4000 Epoch 302/4000 Epoch 303/4000 Epoch 304/4000 Epoch 305/4000 Epoch 306/4000 Epoch 307/4000 Epoch 308/4000 Epoch 309/4000 Epoch 310/4000 Epoch 311/4000 Epoch 312/4000 Epoch 313/4000 Epoch 314/4000 Epoch 315/4000 Epoch 316/4000 Epoch 317/4000 Epoch 318/4000 Epoch 319/4000 Epoch 320/4000 Epoch 321/4000 Epoch 322/4000 Epoch 323/4000 Epoch 324/4000 Epoch 325/4000 Epoch 326/4000 Epoch 327/4000 Epoch 328/4000 Epoch 329/4000 Epoch 330/4000 Epoch 331/4000 Epoch 332/4000 Epoch 333/4000 Epoch 334/4000 Epoch 335/4000 Epoch 336/4000 Epoch 337/4000 Epoch 338/4000 Epoch 339/4000 Epoch 340/4000 Epoch 341/4000 Epoch 342/4000 Epoch 343/4000 Epoch 344/4000 Epoch 345/4000 Epoch 346/4000 Epoch 347/4000 Epoch 348/4000 Epoch 349/4000 Epoch 350/4000 Epoch 351/4000 Epoch 352/4000 Epoch 353/4000 Epoch 354/4000 Epoch 355/4000 Epoch 356/4000 Epoch 357/4000 Epoch 358/4000 Epoch 359/4000 Epoch 360/4000 Epoch 361/4000 Epoch 362/4000 Epoch 363/4000 Epoch 364/4000 Epoch 365/4000 Epoch 366/4000 Epoch 367/4000 Epoch 368/4000 Epoch 369/4000 Epoch 370/4000 Epoch 371/4000 Epoch 372/4000 Epoch 373/4000 Epoch 374/4000 Epoch 375/4000 Epoch 376/4000 Epoch 377/4000 Epoch 378/4000 Epoch 379/4000 Epoch 380/4000 Epoch 381/4000 Epoch 382/4000 Epoch 383/4000 Epoch 384/4000 Epoch 385/4000 Epoch 386/4000 Epoch 387/4000 Epoch 388/4000 Epoch 389/4000 Epoch 390/4000 Epoch 391/4000 Epoch 392/4000 Epoch 393/4000 Epoch 394/4000 Epoch 395/4000 Epoch 396/4000 Epoch 397/4000 Epoch 398/4000 Epoch 399/4000 Epoch 400/4000 Epoch 401/4000 Epoch 402/4000 Epoch 403/4000 Epoch 404/4000 Epoch 405/4000 Epoch 406/4000 Epoch 407/4000 Epoch 408/4000 Epoch 409/4000 Epoch 410/4000 Epoch 411/4000 Epoch 412/4000 Epoch 413/4000 Epoch 414/4000 Epoch 415/4000 Epoch 416/4000 Epoch 417/4000 Epoch 418/4000 Epoch 419/4000 Epoch 420/4000 Epoch 421/4000 Epoch 422/4000 Epoch 423/4000 Epoch 424/4000 Epoch 425/4000 Epoch 426/4000 Epoch 427/4000 Epoch 428/4000 Epoch 429/4000 Epoch 430/4000 Epoch 431/4000 Epoch 432/4000 Epoch 433/4000 Epoch 434/4000 Epoch 435/4000 Epoch 436/4000 Epoch 437/4000 Epoch 438/4000 Epoch 439/4000 Epoch 440/4000 Epoch 441/4000 Epoch 442/4000 Epoch 443/4000 Epoch 444/4000 Epoch 445/4000 Epoch 446/4000 Epoch 447/4000 Epoch 448/4000 Epoch 449/4000 Epoch 450/4000 Epoch 451/4000 Epoch 452/4000 Epoch 453/4000 Epoch 454/4000 Epoch 455/4000 Epoch 456/4000 Epoch 457/4000 Epoch 458/4000 Epoch 459/4000 Epoch 460/4000 Epoch 461/4000 Epoch 462/4000 Epoch 463/4000 Epoch 464/4000 Epoch 465/4000 Epoch 466/4000 Epoch 467/4000 Epoch 468/4000 Epoch 469/4000 Epoch 470/4000 Epoch 471/4000 Epoch 472/4000 Epoch 473/4000 Epoch 474/4000 Epoch 475/4000 Epoch 476/4000 Epoch 477/4000 Epoch 478/4000 Epoch 479/4000 Epoch 480/4000 Epoch 481/4000 Epoch 482/4000 Epoch 483/4000 Epoch 484/4000 Epoch 485/4000 Epoch 486/4000 Epoch 487/4000 Epoch 488/4000 Epoch 489/4000 Epoch 490/4000 Epoch 491/4000 Epoch 492/4000 Epoch 493/4000 Epoch 494/4000 Epoch 495/4000 Epoch 496/4000 Epoch 497/4000 Epoch 498/4000 Epoch 499/4000 Epoch 500/4000 Epoch 501/4000 Epoch 502/4000 Epoch 503/4000 Epoch 504/4000 Epoch 505/4000 Epoch 506/4000 Epoch 507/4000 Epoch 508/4000 Epoch 509/4000 Epoch 510/4000 Epoch 511/4000 Epoch 512/4000 Epoch 513/4000 Epoch 514/4000 Epoch 515/4000 Epoch 516/4000 Epoch 517/4000 Epoch 518/4000 Epoch 519/4000 Epoch 520/4000 Epoch 521/4000 Epoch 522/4000 Epoch 523/4000 Epoch 524/4000 Epoch 525/4000 Epoch 526/4000 Epoch 527/4000 Epoch 528/4000 Epoch 529/4000 Epoch 530/4000 Epoch 531/4000 Epoch 532/4000 Epoch 533/4000 Epoch 534/4000 Epoch 535/4000 Epoch 536/4000 Epoch 537/4000 Epoch 538/4000 Epoch 539/4000 Epoch 540/4000 Epoch 541/4000 Epoch 542/4000 Epoch 543/4000 Epoch 544/4000 Epoch 545/4000 Epoch 546/4000 Epoch 547/4000 Epoch 548/4000 Epoch 549/4000 Epoch 550/4000 Epoch 551/4000 Epoch 552/4000 Epoch 553/4000 "
     ]
    },
    {
     "name": "stdout",
     "output_type": "stream",
     "text": [
      "Epoch 554/4000 Epoch 555/4000 Epoch 556/4000 Epoch 557/4000 Epoch 558/4000 Epoch 559/4000 Epoch 560/4000 Epoch 561/4000 Epoch 562/4000 Epoch 563/4000 Epoch 564/4000 Epoch 565/4000 Epoch 566/4000 Epoch 567/4000 Epoch 568/4000 Epoch 569/4000 Epoch 570/4000 Epoch 571/4000 Epoch 572/4000 Epoch 573/4000 Epoch 574/4000 Epoch 575/4000 Epoch 576/4000 Epoch 577/4000 Epoch 578/4000 Epoch 579/4000 Epoch 580/4000 Epoch 581/4000 Epoch 582/4000 Epoch 583/4000 Epoch 584/4000 Epoch 585/4000 Epoch 586/4000 Epoch 587/4000 Epoch 588/4000 Epoch 589/4000 Epoch 590/4000 Epoch 591/4000 Epoch 592/4000 Epoch 593/4000 Epoch 594/4000 Epoch 595/4000 Epoch 596/4000 Epoch 597/4000 Epoch 598/4000 Epoch 599/4000 Epoch 600/4000 Epoch 601/4000 Epoch 602/4000 Epoch 603/4000 Epoch 604/4000 Epoch 605/4000 Epoch 606/4000 Epoch 607/4000 Epoch 608/4000 Epoch 609/4000 Epoch 610/4000 Epoch 611/4000 Epoch 612/4000 Epoch 613/4000 Epoch 614/4000 Epoch 615/4000 Epoch 616/4000 Epoch 617/4000 Epoch 618/4000 Epoch 619/4000 Epoch 620/4000 Epoch 621/4000 Epoch 622/4000 Epoch 623/4000 Epoch 624/4000 Epoch 625/4000 Epoch 626/4000 Epoch 627/4000 Epoch 628/4000 Epoch 629/4000 Epoch 630/4000 Epoch 631/4000 Epoch 632/4000 Epoch 633/4000 Epoch 634/4000 Epoch 635/4000 Epoch 636/4000 Epoch 637/4000 Epoch 638/4000 Epoch 639/4000 Epoch 640/4000 Epoch 641/4000 Epoch 642/4000 Epoch 643/4000 Epoch 644/4000 Epoch 645/4000 Epoch 646/4000 Epoch 647/4000 Epoch 648/4000 Epoch 649/4000 Epoch 650/4000 Epoch 651/4000 Epoch 652/4000 Epoch 653/4000 Epoch 654/4000 Epoch 655/4000 Epoch 656/4000 Epoch 657/4000 Epoch 658/4000 Epoch 659/4000 Epoch 660/4000 Epoch 661/4000 Epoch 662/4000 Epoch 663/4000 Epoch 664/4000 Epoch 665/4000 Epoch 666/4000 Epoch 667/4000 Epoch 668/4000 Epoch 669/4000 Epoch 670/4000 Epoch 671/4000 Epoch 672/4000 Epoch 673/4000 Epoch 674/4000 Epoch 675/4000 Epoch 676/4000 Epoch 677/4000 Epoch 678/4000 Epoch 679/4000 Epoch 680/4000 Epoch 681/4000 Epoch 682/4000 Epoch 683/4000 Epoch 684/4000 Epoch 685/4000 Epoch 686/4000 Epoch 687/4000 Epoch 688/4000 Epoch 689/4000 Epoch 690/4000 Epoch 691/4000 Epoch 692/4000 Epoch 693/4000 Epoch 694/4000 Epoch 695/4000 Epoch 696/4000 Epoch 697/4000 Epoch 698/4000 Epoch 699/4000 Epoch 700/4000 Epoch 701/4000 Epoch 702/4000 Epoch 703/4000 Epoch 704/4000 Epoch 705/4000 Epoch 706/4000 Epoch 707/4000 Epoch 708/4000 Epoch 709/4000 Epoch 710/4000 Epoch 711/4000 Epoch 712/4000 Epoch 713/4000 Epoch 714/4000 Epoch 715/4000 Epoch 716/4000 Epoch 717/4000 Epoch 718/4000 Epoch 719/4000 Epoch 720/4000 Epoch 721/4000 Epoch 722/4000 Epoch 723/4000 Epoch 724/4000 Epoch 725/4000 Epoch 726/4000 Epoch 727/4000 Epoch 728/4000 Epoch 729/4000 Epoch 730/4000 Epoch 731/4000 Epoch 732/4000 Epoch 733/4000 Epoch 734/4000 Epoch 735/4000 Epoch 736/4000 Epoch 737/4000 Epoch 738/4000 "
     ]
    }
   ],
   "source": [
    "#reload\n",
    "imp.reload(aec)\n",
    "imp.reload(tm)\n",
    "imp.reload(mplu)\n",
    "imp.reload(plu)\n",
    "\n",
    "for xs,rs in noise_xs_rs_pairs:\n",
    "    params['noise_x'] = xs\n",
    "    params['noise_r'] = rs\n",
    "\n",
    "    #make our model\n",
    "    aecmodel = aec.movie_aec_model(params)\n",
    "\n",
    "    #train it\n",
    "    [cost_evolution,\n",
    "     activation_evolution,\n",
    "     inweights_evolution,\n",
    "     outweights_evolution,\n",
    "     clips,\n",
    "     recons,\n",
    "     final_inweights,\n",
    "     final_outweights,\n",
    "     final_activations] = tm.train_movie_model(aecmodel, m)\n",
    "\n",
    "    #mplu.save_plots(aecmodel,\n",
    "    #                cost_evolution,\n",
    "    #                activation_evolution,\n",
    "    #                inweights_evolution,\n",
    "    #                outweights_evolution,\n",
    "    #                clips,\n",
    "    #                recons,\n",
    "    #                final_inweights,\n",
    "    #                final_outweights,\n",
    "    #                final_activations)\n",
    "\n",
    "    print('All Done!')"
   ]
  },
  {
   "cell_type": "code",
   "execution_count": null,
   "metadata": {},
   "outputs": [],
   "source": [
    "print(final_inweights.shape)\n",
    "print(final_outweights.shape)"
   ]
  },
  {
   "cell_type": "code",
   "execution_count": null,
   "metadata": {},
   "outputs": [],
   "source": [
    "plt.hist(final_outweights.flatten())"
   ]
  },
  {
   "cell_type": "code",
   "execution_count": null,
   "metadata": {},
   "outputs": [],
   "source": [
    "plt.plot(np.log(np.mean(cost_evolution,axis=2).flatten()))"
   ]
  },
  {
   "cell_type": "code",
   "execution_count": null,
   "metadata": {},
   "outputs": [],
   "source": [
    "print(final_inweights.shape)\n",
    "print(final_outweights.shape)\n",
    "plu.plot_tiled_rfs(final_inweights[-1].T)\n",
    "plt.show()\n",
    "plu.plot_tiled_rfs(final_outweights[...,-1])"
   ]
  },
  {
   "cell_type": "code",
   "execution_count": null,
   "metadata": {},
   "outputs": [],
   "source": [
    "#test = final_outweights.T\n",
    "#print(np.shape(test))\n",
    "print(final_outweights.shape)\n",
    "mplu.plot_temporal_weights(final_outweights[...,0].T);"
   ]
  },
  {
   "cell_type": "code",
   "execution_count": null,
   "metadata": {},
   "outputs": [],
   "source": [
    "imp.reload(mplu)\n",
    "imp.reload(plu)\n",
    "#plu.plot_tiled_rfs(np.rollaxis(inweights_evolution[-1][0,:,:,:],2,0))\n",
    "#mplu.plot_temporal_weights(np.rollaxis(inweights_evolution[-1][0,:,:,:],2,0))\n",
    "\n",
    "#print(inweights_evolution.shape)\n",
    "#test = inweights_evolution[-1].T\n",
    "test = outweights_evolution[-1]\n",
    "print(test.shape)\n",
    "#test = np.rollaxis(test[0,:,:,:],2,0)\n",
    "plu.plot_tiled_rfs(test)\n",
    "#print(test)\n",
    "#mplu.plot_temporal_weights(final_outweights);\n",
    "#plu.plot_tiled_rfs()"
   ]
  },
  {
   "cell_type": "code",
   "execution_count": 13,
   "metadata": {},
   "outputs": [
    {
     "name": "stdout",
     "output_type": "stream",
     "text": [
      "(6, 6, 6, 400)\n"
     ]
    },
    {
     "ename": "TypeError",
     "evalue": "unhashable type: 'numpy.ndarray'",
     "output_type": "error",
     "traceback": [
      "\u001b[0;31m---------------------------------------------------------------------------\u001b[0m",
      "\u001b[0;31mTypeError\u001b[0m                                 Traceback (most recent call last)",
      "\u001b[0;32m<ipython-input-13-3a7de1244c66>\u001b[0m in \u001b[0;36m<module>\u001b[0;34m()\u001b[0m\n\u001b[1;32m      9\u001b[0m \u001b[0;31m#print(test.shape)\u001b[0m\u001b[0;34m\u001b[0m\u001b[0;34m\u001b[0m\u001b[0m\n\u001b[1;32m     10\u001b[0m \u001b[0;31m#mplu.plot_temporal_weights(final_outweights.T);\u001b[0m\u001b[0;34m\u001b[0m\u001b[0;34m\u001b[0m\u001b[0m\n\u001b[0;32m---> 11\u001b[0;31m \u001b[0mmplu\u001b[0m\u001b[0;34m.\u001b[0m\u001b[0mplot_temporal_weights\u001b[0m\u001b[0;34m(\u001b[0m\u001b[0mfinal_inweights\u001b[0m\u001b[0;34m)\u001b[0m\u001b[0;34m;\u001b[0m\u001b[0;34m\u001b[0m\u001b[0m\n\u001b[0m\u001b[1;32m     12\u001b[0m \u001b[0;31m#plu.plot_tiled_rfs(np.rollaxis(test[0,:,:,:],2,0))\u001b[0m\u001b[0;34m\u001b[0m\u001b[0;34m\u001b[0m\u001b[0m\n",
      "\u001b[0;32m~/NatVisAutoEncode/utils/movie_plotutils.py\u001b[0m in \u001b[0;36mplot_temporal_weights\u001b[0;34m(wmatrix, rescale)\u001b[0m\n\u001b[1;32m    109\u001b[0m         \u001b[0mframe\u001b[0m \u001b[0;34m=\u001b[0m \u001b[0mwmatrix\u001b[0m\u001b[0;34m[\u001b[0m\u001b[0mframenum\u001b[0m\u001b[0;34m,\u001b[0m\u001b[0;34m:\u001b[0m\u001b[0;34m,\u001b[0m\u001b[0;34m:\u001b[0m\u001b[0;34m,\u001b[0m\u001b[0;34m:\u001b[0m\u001b[0;34m]\u001b[0m\u001b[0;34m\u001b[0m\u001b[0m\n\u001b[1;32m    110\u001b[0m         \u001b[0mpadded\u001b[0m \u001b[0;34m=\u001b[0m \u001b[0mplu\u001b[0m\u001b[0;34m.\u001b[0m\u001b[0mpad_data\u001b[0m\u001b[0;34m(\u001b[0m\u001b[0mframe\u001b[0m\u001b[0;34m.\u001b[0m\u001b[0mT\u001b[0m\u001b[0;34m)\u001b[0m\u001b[0;34m\u001b[0m\u001b[0m\n\u001b[0;32m--> 111\u001b[0;31m         \u001b[0mplt\u001b[0m\u001b[0;34m.\u001b[0m\u001b[0msubplot\u001b[0m\u001b[0;34m(\u001b[0m\u001b[0;36m1\u001b[0m\u001b[0;34m,\u001b[0m\u001b[0mnframes\u001b[0m\u001b[0;34m,\u001b[0m\u001b[0mframe\u001b[0m\u001b[0;34m+\u001b[0m\u001b[0;36m1\u001b[0m\u001b[0;34m)\u001b[0m\u001b[0;34m;\u001b[0m\u001b[0;34m\u001b[0m\u001b[0m\n\u001b[0m\u001b[1;32m    112\u001b[0m         \u001b[0mplu\u001b[0m\u001b[0;34m.\u001b[0m\u001b[0mplot_tiled_rfs\u001b[0m\u001b[0;34m(\u001b[0m\u001b[0mwmatrix\u001b[0m\u001b[0;34m[\u001b[0m\u001b[0mframe\u001b[0m\u001b[0;34m]\u001b[0m\u001b[0;34m.\u001b[0m\u001b[0mT\u001b[0m\u001b[0;34m,\u001b[0m\u001b[0mcolorbar\u001b[0m\u001b[0;34m=\u001b[0m\u001b[0;32mFalse\u001b[0m\u001b[0;34m)\u001b[0m\u001b[0;34m;\u001b[0m\u001b[0;34m\u001b[0m\u001b[0m\n\u001b[1;32m    113\u001b[0m \u001b[0;34m\u001b[0m\u001b[0m\n",
      "\u001b[0;32m~/anaconda3/lib/python3.5/site-packages/matplotlib/pyplot.py\u001b[0m in \u001b[0;36msubplot\u001b[0;34m(*args, **kwargs)\u001b[0m\n\u001b[1;32m   1042\u001b[0m \u001b[0;34m\u001b[0m\u001b[0m\n\u001b[1;32m   1043\u001b[0m     \u001b[0mfig\u001b[0m \u001b[0;34m=\u001b[0m \u001b[0mgcf\u001b[0m\u001b[0;34m(\u001b[0m\u001b[0;34m)\u001b[0m\u001b[0;34m\u001b[0m\u001b[0m\n\u001b[0;32m-> 1044\u001b[0;31m     \u001b[0ma\u001b[0m \u001b[0;34m=\u001b[0m \u001b[0mfig\u001b[0m\u001b[0;34m.\u001b[0m\u001b[0madd_subplot\u001b[0m\u001b[0;34m(\u001b[0m\u001b[0;34m*\u001b[0m\u001b[0margs\u001b[0m\u001b[0;34m,\u001b[0m \u001b[0;34m**\u001b[0m\u001b[0mkwargs\u001b[0m\u001b[0;34m)\u001b[0m\u001b[0;34m\u001b[0m\u001b[0m\n\u001b[0m\u001b[1;32m   1045\u001b[0m     \u001b[0mbbox\u001b[0m \u001b[0;34m=\u001b[0m \u001b[0ma\u001b[0m\u001b[0;34m.\u001b[0m\u001b[0mbbox\u001b[0m\u001b[0;34m\u001b[0m\u001b[0m\n\u001b[1;32m   1046\u001b[0m     \u001b[0mbyebye\u001b[0m \u001b[0;34m=\u001b[0m \u001b[0;34m[\u001b[0m\u001b[0;34m]\u001b[0m\u001b[0;34m\u001b[0m\u001b[0m\n",
      "\u001b[0;32m~/anaconda3/lib/python3.5/site-packages/matplotlib/figure.py\u001b[0m in \u001b[0;36madd_subplot\u001b[0;34m(self, *args, **kwargs)\u001b[0m\n\u001b[1;32m   1004\u001b[0m \u001b[0;34m\u001b[0m\u001b[0m\n\u001b[1;32m   1005\u001b[0m             \u001b[0;31m# try to find the axes with this key in the stack\u001b[0m\u001b[0;34m\u001b[0m\u001b[0;34m\u001b[0m\u001b[0m\n\u001b[0;32m-> 1006\u001b[0;31m             \u001b[0max\u001b[0m \u001b[0;34m=\u001b[0m \u001b[0mself\u001b[0m\u001b[0;34m.\u001b[0m\u001b[0m_axstack\u001b[0m\u001b[0;34m.\u001b[0m\u001b[0mget\u001b[0m\u001b[0;34m(\u001b[0m\u001b[0mkey\u001b[0m\u001b[0;34m)\u001b[0m\u001b[0;34m\u001b[0m\u001b[0m\n\u001b[0m\u001b[1;32m   1007\u001b[0m \u001b[0;34m\u001b[0m\u001b[0m\n\u001b[1;32m   1008\u001b[0m             \u001b[0;32mif\u001b[0m \u001b[0max\u001b[0m \u001b[0;32mis\u001b[0m \u001b[0;32mnot\u001b[0m \u001b[0;32mNone\u001b[0m\u001b[0;34m:\u001b[0m\u001b[0;34m\u001b[0m\u001b[0m\n",
      "\u001b[0;32m~/anaconda3/lib/python3.5/site-packages/matplotlib/figure.py\u001b[0m in \u001b[0;36mget\u001b[0;34m(self, key)\u001b[0m\n\u001b[1;32m     89\u001b[0m         \u001b[0mIf\u001b[0m \u001b[0mit\u001b[0m \u001b[0;32mis\u001b[0m \u001b[0;32mnot\u001b[0m \u001b[0mpresent\u001b[0m\u001b[0;34m,\u001b[0m \u001b[0;32mreturn\u001b[0m \u001b[0;32mNone\u001b[0m\u001b[0;34m.\u001b[0m\u001b[0;34m\u001b[0m\u001b[0m\n\u001b[1;32m     90\u001b[0m         \"\"\"\n\u001b[0;32m---> 91\u001b[0;31m         \u001b[0mitem\u001b[0m \u001b[0;34m=\u001b[0m \u001b[0mdict\u001b[0m\u001b[0;34m(\u001b[0m\u001b[0mself\u001b[0m\u001b[0;34m.\u001b[0m\u001b[0m_elements\u001b[0m\u001b[0;34m)\u001b[0m\u001b[0;34m.\u001b[0m\u001b[0mget\u001b[0m\u001b[0;34m(\u001b[0m\u001b[0mkey\u001b[0m\u001b[0;34m)\u001b[0m\u001b[0;34m\u001b[0m\u001b[0m\n\u001b[0m\u001b[1;32m     92\u001b[0m         \u001b[0;32mif\u001b[0m \u001b[0mitem\u001b[0m \u001b[0;32mis\u001b[0m \u001b[0;32mNone\u001b[0m\u001b[0;34m:\u001b[0m\u001b[0;34m\u001b[0m\u001b[0m\n\u001b[1;32m     93\u001b[0m             \u001b[0;32mreturn\u001b[0m \u001b[0;32mNone\u001b[0m\u001b[0;34m\u001b[0m\u001b[0m\n",
      "\u001b[0;31mTypeError\u001b[0m: unhashable type: 'numpy.ndarray'"
     ]
    },
    {
     "data": {
      "text/plain": [
       "<matplotlib.figure.Figure at 0x7f84986650f0>"
      ]
     },
     "metadata": {},
     "output_type": "display_data"
    }
   ],
   "source": [
    "imp.reload(mplu)\n",
    "imp.reload(plu)\n",
    "print(final_inweights.shape)\n",
    "#mplu.plot_temporal_weights(final_inweights);\n",
    "#plu.plot_tiled_rfs(np.rollaxis(final_inweights[0,:,:,:],2,0))\n",
    "\n",
    "#plt.figure(figsize=(10,3))\n",
    "#test = np.transpose(final_inweights,axes=(0,2,1,3))\n",
    "#print(test.shape)\n",
    "#mplu.plot_temporal_weights(final_outweights.T);\n",
    "mplu.plot_temporal_weights(final_inweights);\n",
    "#plu.plot_tiled_rfs(np.rollaxis(test[0,:,:,:],2,0))\n"
   ]
  },
  {
   "cell_type": "code",
   "execution_count": null,
   "metadata": {},
   "outputs": [],
   "source": [
    "imp.reload(mplu)\n",
    "animation = mplu.weights_movieclip(final_outweights.T);\n",
    "#animation.ipython_display(fps=20, loop=True, autoplay=True)\n",
    "#from IPython.display import HTML\n",
    "#HTML('<img src=\"./weight_movie.gif>')"
   ]
  },
  {
   "cell_type": "code",
   "execution_count": null,
   "metadata": {},
   "outputs": [],
   "source": [
    "print(final_inweights[-1].shape)\n",
    "p = plu.pad_data(final_inweights[-1].T)\n",
    "plt.imshow(p,cmap='Greys_r')"
   ]
  },
  {
   "cell_type": "code",
   "execution_count": null,
   "metadata": {},
   "outputs": [],
   "source": [
    "mplu.plot_temporal_weights(np.transpose(final_inweights,axes=(0,2,1,3)));"
   ]
  },
  {
   "cell_type": "code",
   "execution_count": null,
   "metadata": {},
   "outputs": [],
   "source": [
    "##TWO BASIS VECTORS##\n",
    "mplu.plot_mov_recon(final_outweights.T[:,:,:,8],final_outweights.T[:,:,:,20],nframes=params['frames_per_channel']);\n"
   ]
  },
  {
   "cell_type": "code",
   "execution_count": null,
   "metadata": {},
   "outputs": [],
   "source": [
    "##TWO BASIS VECTORS##\n",
    "mplu.plot_mov_recon(test[2,:,:,:],final_inweights[2,:,:,:],nframes=params['frames_per_channel']);\n"
   ]
  },
  {
   "cell_type": "code",
   "execution_count": null,
   "metadata": {},
   "outputs": [],
   "source": [
    "#diff = final_inweights - inweights_evolution[1]\n",
    "#print(diff.shape)\n",
    "print(final_inweights.shape)\n",
    "for i in range(final_inweights.shape[3]):\n",
    "    sbplt = np.sqrt(final_inweights.shape[3])\n",
    "    plt.subplot(sbplt,sbplt,i+1)\n",
    "    plt.imshow(np.linalg.inv(final_outweights.T[0,:,:,i]),cmap='Greys_r')\n",
    "    #plt.imshow(final_inweights[2,:,:,i],cmap='Greys_r')\n",
    "    #plt.imshow(test,cmap='Greys_r')\n",
    "    plt.xticks([])\n",
    "    plt.yticks([])\n"
   ]
  },
  {
   "cell_type": "code",
   "execution_count": null,
   "metadata": {},
   "outputs": [],
   "source": [
    "print(final_inweights.shape)\n",
    "print(final_outweights.shape)\n",
    "print(np.array(recons).shape)\n",
    "print(np.array(clips).shape)"
   ]
  },
  {
   "cell_type": "code",
   "execution_count": null,
   "metadata": {},
   "outputs": [],
   "source": [
    "randomclipindex = np.random.randint(np.shape(clips[0])[0])\n",
    "\n",
    "#print the cost of this instance\n",
    "print(np.mean(np.log1p(clips[-1][randomclipindex,:,:,:] - recons[-1][randomclipindex,:,:,:])))\n",
    "\n",
    "mplu.plot_mov_recon(clips[-1][randomclipindex,:,:,:],recons[-1][randomclipindex,:,:,:],nframes=5);"
   ]
  },
  {
   "cell_type": "code",
   "execution_count": null,
   "metadata": {},
   "outputs": [],
   "source": [
    "##Check norm of weights\n",
    "plt.plot(np.linalg.norm(final_inweights.reshape(8*64,1000), ord=2, axis=0))"
   ]
  },
  {
   "cell_type": "code",
   "execution_count": null,
   "metadata": {},
   "outputs": [],
   "source": [
    "print(inweights_evolution[-1].T.shape)\n",
    "#plu.plot_tiled_rfs(inweights_evolution[-1].T[:,:,:,0])\n",
    "padded_wv = plu.pad_data(inweights_evolution[-1].T[:,:,:,0])\n",
    "print(padded_wv.shape)\n",
    "plt.imshow(padded_wv)"
   ]
  },
  {
   "cell_type": "code",
   "execution_count": null,
   "metadata": {},
   "outputs": [],
   "source": [
    "import imageio\n",
    "images = []\n",
    "\n",
    "for i in range(np.shape(final_inweights)[3]):\n",
    "    basisfun = plt.imshow(final_inweights[0,:,:,i],cmap='Greys_r');\n",
    "    images.append(basisfun)\n",
    "imageio.mimsave('test.gif', images)"
   ]
  },
  {
   "cell_type": "code",
   "execution_count": null,
   "metadata": {},
   "outputs": [],
   "source": []
  },
  {
   "cell_type": "code",
   "execution_count": null,
   "metadata": {},
   "outputs": [],
   "source": [
    "p = plt.errorbar(np.arange(len(cost_evolution)),\n",
    "                 np.log(np.mean(np.array(cost_evolution),axis=1)),\n",
    "                 yerr=np.log(np.std(np.array(cost_evolution),axis=1)));\n",
    "plt.title(\"Log-Cost Evolution Over Iterations (Errorbar = 1SD)\")"
   ]
  },
  {
   "cell_type": "code",
   "execution_count": null,
   "metadata": {},
   "outputs": [],
   "source": [
    "np.shape(np.array(activation_evolution))"
   ]
  },
  {
   "cell_type": "code",
   "execution_count": null,
   "metadata": {},
   "outputs": [],
   "source": [
    "p = plt.errorbar(np.arange(len(activation_evolution)),\n",
    "                 np.array(activation_evolution),\n",
    "                 yerr=np.std(np.array(activation_evolution),axis=0));\n",
    "plt.title('Evolution of Activation over Learning')"
   ]
  },
  {
   "cell_type": "code",
   "execution_count": null,
   "metadata": {},
   "outputs": [],
   "source": [
    "plt.imshow(recons[0][randomclipindex],cmap=\"Greys_r\")\n",
    "plt.colorbar()"
   ]
  },
  {
   "cell_type": "code",
   "execution_count": null,
   "metadata": {},
   "outputs": [],
   "source": [
    "plt.imshow(clips[0][randomclipindex],cmap=\"Greys_r\")\n",
    "plt.colorbar()"
   ]
  },
  {
   "cell_type": "code",
   "execution_count": null,
   "metadata": {},
   "outputs": [],
   "source": [
    "\n",
    "np.shape(final_inweights)"
   ]
  },
  {
   "cell_type": "code",
   "execution_count": null,
   "metadata": {},
   "outputs": [],
   "source": [
    "np.shape(inweights_evolution)"
   ]
  },
  {
   "cell_type": "code",
   "execution_count": null,
   "metadata": {},
   "outputs": [],
   "source": []
  },
  {
   "cell_type": "code",
   "execution_count": null,
   "metadata": {},
   "outputs": [],
   "source": [
    "import sklearn as skl\n",
    "\n",
    "npatches = 1000\n",
    "\n",
    "test = m[0:npatches,:5,:,:].reshape((npatches,-1))\n",
    "print(test.shape)\n",
    "cov_mat = np.cov(test)\n",
    "eig_val, eig_vec = np.linalg.eigh(cov_mat)\n",
    "print(eig_val)\n",
    "print(np.shape(eig_val))\n",
    "\n",
    "invcovmat = eig_vec\n",
    "#recon_val, recon_vec = np.linalg.eig(invcovmat)\n",
    "\n",
    "#recon_vec\n",
    "\n",
    "#pca = skl.decomposition.PCA()\n",
    "#pca.fit(test)\n",
    "#np.pca(test).shape\n",
    "#pca"
   ]
  },
  {
   "cell_type": "code",
   "execution_count": null,
   "metadata": {},
   "outputs": [],
   "source": []
  },
  {
   "cell_type": "code",
   "execution_count": null,
   "metadata": {},
   "outputs": [],
   "source": []
  },
  {
   "cell_type": "code",
   "execution_count": null,
   "metadata": {},
   "outputs": [],
   "source": []
  },
  {
   "cell_type": "code",
   "execution_count": null,
   "metadata": {},
   "outputs": [],
   "source": []
  },
  {
   "cell_type": "code",
   "execution_count": null,
   "metadata": {
    "scrolled": true
   },
   "outputs": [],
   "source": []
  },
  {
   "cell_type": "code",
   "execution_count": null,
   "metadata": {},
   "outputs": [],
   "source": []
  },
  {
   "cell_type": "code",
   "execution_count": null,
   "metadata": {},
   "outputs": [],
   "source": []
  },
  {
   "cell_type": "code",
   "execution_count": null,
   "metadata": {},
   "outputs": [],
   "source": []
  }
 ],
 "metadata": {
  "anaconda-cloud": {},
  "kernelspec": {
   "display_name": "Python [default]",
   "language": "python",
   "name": "python3"
  },
  "language_info": {
   "codemirror_mode": {
    "name": "ipython",
    "version": 3
   },
   "file_extension": ".py",
   "mimetype": "text/x-python",
   "name": "python",
   "nbconvert_exporter": "python",
   "pygments_lexer": "ipython3",
   "version": "3.5.4"
  }
 },
 "nbformat": 4,
 "nbformat_minor": 2
}
