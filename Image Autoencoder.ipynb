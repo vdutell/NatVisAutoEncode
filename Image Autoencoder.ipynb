{
 "cells": [
  {
   "cell_type": "markdown",
   "metadata": {
    "nbpresent": {
     "id": "987ee2ce-0a6d-42b6-bd81-57697b12b074"
    }
   },
   "source": [
    "$$ y_{in} = F_{act}((Im+n_{in} W_{in}) + bias) $$\n",
    "$$ Im^* = F_{act}(y_{in} W_{in}^T) + n_{out} $$\n",
    "\n",
    "$$ Cost = \\sqrt{\\langle|Im-Im^*|\\rangle} + \\lambda \\langle r \\rangle $$"
   ]
  },
  {
   "cell_type": "code",
   "execution_count": 1,
   "metadata": {
    "nbpresent": {
     "id": "f5898fbf-e665-436e-a842-265873ca6774"
    }
   },
   "outputs": [],
   "source": [
    "#Dependencies\n",
    "import os\n",
    "\n",
    "import numpy as np\n",
    "import pylab as pl\n",
    "import tensorflow as tf\n",
    "import matplotlib.pyplot as plt\n",
    "import scipy as scipy\n",
    "import shutil\n",
    "\n",
    "import utils.plotutils as plu\n",
    "import utils.imreadin as imr\n",
    "#import utils.dirutils as diru\n",
    "\n",
    "#code to reload\n",
    "import imp\n",
    "imp.reload(plu)\n",
    "\n",
    "#code to limit number of CPUs\n",
    "maxcpus = 1\n",
    "#%env CUDA_VISIBLE_DEVICES=0\n",
    "\n",
    "#image files\n",
    "ims = 'vh_corr'\n",
    "#ims = 'kyoto'\n",
    "patch_multiplier = 1\n",
    "\n",
    "%matplotlib inline\n",
    "%config InlineBackend.print_figure_kwargs = {'dpi' : 200} #plotting pretty"
   ]
  },
  {
   "cell_type": "code",
   "execution_count": 2,
   "metadata": {
    "nbpresent": {
     "id": "bb4e393e-5054-4a4f-878a-66a8b8a48c49"
    },
    "scrolled": true
   },
   "outputs": [],
   "source": [
    "class aec_model(object):\n",
    "    \n",
    "    def __init__(self, params):\n",
    "        params = self.add_params(params)\n",
    "        self.params = params\n",
    "        self.make_dirs()\n",
    "        self.graph = self.make_graph()\n",
    "\n",
    "    def add_params(self, params):  \n",
    "        params['compression'] = params['imxlen'] * params['imylen'] / params['nneurons']\n",
    "        params['savefolder'] = str('./output/image_output/' + \n",
    "                                   str(params['ims'])+\n",
    "                                   '_nonlin1_' + str(params['nonlin1'])+ \n",
    "                                   '_nonlin2_' + str(params['nonlin2'])+\n",
    "                                   '_neurons_'+ str(params['nneurons'])+\n",
    "                                   '_nin_'+ str(params['noise_x'])+\n",
    "                                   '_nout_'+ str(params['noise_r'])+\n",
    "                                   '_bsze_'+ str(params['batchsize'])+\n",
    "                                   '_epochs_'+ str(params['epochs'])+\n",
    "                                   '_lrate_'+ str(params['learning_rate'])+\n",
    "                                   '_lambda_act'+ str(params['lambda_act'])+\n",
    "                                   '_lambda_wgt' + str(params['lambda_wgt'])+ '/')\n",
    "\n",
    "        return(params)\n",
    "        \n",
    "    def make_dirs(self):\n",
    "        if os.path.exists(self.params['savefolder']):\n",
    "            shutil.rmtree(self.params['savefolder'])\n",
    "        os.makedirs(self.params['savefolder'])\n",
    "        os.makedirs(self.params['savefolder']+'param_evolution/')\n",
    "        \n",
    "    def make_graph(self):\n",
    "    \n",
    "        print('Compressing by',self.params['compression'],'for a total of',self.params['nneurons'],'neurons')\n",
    "\n",
    "        #setup our graph\n",
    "        #tf.reset_default_graph()\n",
    "        mygraph = tf.Graph()\n",
    "        with mygraph.as_default():\n",
    "\n",
    "            #input images\n",
    "            with tf.name_scope('input'):\n",
    "                self.x = tf.placeholder(tf.float32, shape=[self.params[\"batchsize\"], \n",
    "                                                           self.params[\"imxlen\"]*self.params[\"imylen\"]])\n",
    "\n",
    "            #activation function type\n",
    "            with tf.name_scope('nonliearities'):\n",
    "                self.nonlin1 = self.params['nonlin1']\n",
    "                self.nonlin2  = self.params['nonlin2']\n",
    "\n",
    "            #noises\n",
    "            with tf.name_scope('noises'):\n",
    "                self.noisexsigma = self.params['noise_x']\n",
    "                self.noisersigma = self.params['noise_r']\n",
    "\n",
    "            #function to add noise\n",
    "            with tf.name_scope(\"add_noise\"):\n",
    "                def add_noise(input_layer, std):\n",
    "                    noise = tf.random_normal(shape=tf.shape(input_layer), mean=0.0, stddev=std, dtype=tf.float32) \n",
    "                    return tf.add(input_layer,noise)\n",
    "            \n",
    "            #control activation with gamma\n",
    "            #self.gamma = tf.Variable(tf.ones(self.params['nneurons'], dtype=tf.float32), trainable=False)\n",
    "            #self.alpha = tf.constant(self.params['alpha'])\n",
    "                              \n",
    "            #weights\n",
    "            with tf.variable_scope(\"weights\"):\n",
    "\n",
    "                #per Salimans et al 2016 - Weight Normalization: A Simple Reparameterization to Accelerate Training of Deep Neural Networks parameterize weights as w = g/||v||*v. Now ||w|| = g and we can set g to 1 to enfoce this constraint, and learn the direction of the weights v, while maintaining magnitude of norm 1.\n",
    "\n",
    "                weights_kernel_in = tf.random_normal([self.params['imxlen']*self.params['imylen'],\n",
    "                                                      self.params['nneurons']],\n",
    "                                                     dtype=tf.float32,stddev=0.1)\n",
    "                \n",
    "                weights_kernel_out = tf.random_normal([self.params['nneurons'],\n",
    "                                                   self.params['imxlen']*self.params['imylen']],\n",
    "                                                   dtype=tf.float32,stddev=0.1)\n",
    "                \n",
    "                self.win = tf.get_variable('win',initializer=weights_kernel_in)\n",
    "                \n",
    "\n",
    "                self.wout = tf.get_variable('wout',initializer=weights_kernel_out)\n",
    "                \n",
    "\n",
    "            #bias\n",
    "            with tf.variable_scope(\"in_bias\"):\n",
    "                offset = 0 #to keep values positive\n",
    "                self.inbias = tf.Variable(tf.random_normal([self.params['nneurons']],\n",
    "                                                         dtype=tf.float32,\n",
    "                                                         stddev=0.1)+offset)\n",
    "            with tf.variable_scope(\"out_bias\"):\n",
    "                offset = 0\n",
    "                if(params['nonlin2']in['sigmoid','relu','tanh']):\n",
    "                    self.outbias = tf.Variable(tf.random_normal([self.params['imxlen']*self.params['imylen']],\n",
    "                                                                dtype=tf.float32,\n",
    "                                                                stddev=0.1)+offset)\n",
    "                else:\n",
    "                    self.outbias = tf.zeros([self.params['imxlen']*self.params['imylen']])\n",
    "            #lambda\n",
    "            with tf.name_scope('lambda_activation'):\n",
    "                self.lambda_act = self.params['lambda_act']\n",
    "                \n",
    "            #lambda2\n",
    "            with tf.name_scope('lambda_weights'):\n",
    "                self.lambda_wgt = self.params['lambda_wgt']                \n",
    "\n",
    "            #learning_rate\n",
    "            with tf.name_scope('learning_rate'):\n",
    "                self.learning_rate = self.params['learning_rate']\n",
    "\n",
    "            #nonlienarities\n",
    "            with tf.name_scope(\"nonlienarities\"):\n",
    "                #define nonlinearities\n",
    "                def tanh_fun(bias,arg):\n",
    "                    return tf.nn.tanh(tf.add(arg,bias)) \n",
    "                def sigmoid_fun(bias,arg):\n",
    "                    return tf.nn.sigmoid(tf.add(arg,bias)) \n",
    "                def relu_fun(bias,arg):\n",
    "                    return tf.nn.relu(tf.add(arg,bias)) \n",
    "                def no_fun(bias,arg):\n",
    "                    return arg\n",
    "\n",
    "            #encoding part of model\n",
    "            with tf.name_scope(\"encoding\"):\n",
    "                linearin = tf.matmul(add_noise(self.x,self.params['noise_x']),self.win) #add noise to input, and multiply by weights\n",
    "                self.yin = tf.case({tf.equal(self.nonlin1,'tanh'): (lambda: tanh_fun(self.inbias,linearin)),\n",
    "                               tf.equal(self.nonlin1,'sigmoid'): (lambda: sigmoid_fun(self.inbias,linearin)),\n",
    "                               tf.equal(self.nonlin1,'relu'): (lambda: relu_fun(self.inbias,linearin))},\n",
    "                               default=(lambda: no_fun(self.inbias,linearin)),\n",
    "                               exclusive=True)\n",
    "                self.yin_noised = add_noise(self.yin,self.params['noise_r'])\n",
    "\n",
    "\n",
    "            #output part of model\n",
    "            with tf.name_scope(\"decoding\"):\n",
    "                #calculate output (reconstruction)\n",
    "                linearout = tf.matmul(self.yin_noised,self.wout) #add noise to inner layer, and multiply by weight  transpose\n",
    "                self.xp = tf.case({tf.equal(self.nonlin2,'tanh'): (lambda: tanh_fun(self.outbias,linearout)),\n",
    "                                   tf.equal(self.nonlin2,'sigmoid'): (lambda: sigmoid_fun(self.outbias,linearout)),\n",
    "                                   tf.equal(self.nonlin2,'relu'): (lambda: relu_fun(self.outbias,linearout))},\n",
    "                                   default=(lambda: no_fun(self.outbias,linearout)),\n",
    "                                   exclusive=True, name='output_nonlienarity')\n",
    "            \n",
    "            #how well are we reconstructing?\n",
    "            with tf.name_scope(\"reconstruction\"):\n",
    "                self.normalize_recon = False\n",
    "                if self.normalize_recon == True:\n",
    "                    normx = self.x - tf.reduce_min(self.x,axis=0)\n",
    "                    normxp = self.xp - tf.reduce_min(self.xp, axis=0)\n",
    "                else:\n",
    "                    normx = self.x\n",
    "                    normxp = self.xp\n",
    "                #caclculate redonstruction error.\n",
    "                self.recon_err = tf.norm(normx-normxp,ord=2)\n",
    "            \n",
    "            #calculate cost\n",
    "            with tf.name_scope(\"cost_function\"):\n",
    "                self.activation = tf.reduce_mean(self.yin,axis=0)\n",
    "                self.cost = (tf.reduce_mean(self.recon_err) +\n",
    "                             self.lambda_act * tf.norm(self.activation,ord=1) + \n",
    "                             self.lambda_wgt * tf.norm(self.wout, ord=1))\n",
    "\n",
    "            #update lambda\n",
    "            #with tf.name_scope('lambda_update'):\n",
    "            #    self.lambd = self.lambd * (activation/self.params[\"batchsize\"])\n",
    "                                     \n",
    "            #train our model\n",
    "            with tf.name_scope(\"training_step\"):\n",
    "                self.train_step = tf.train.AdamOptimizer(self.learning_rate).minimize(self.cost)\n",
    "                #self.train_step = tf.train.GradientDescentOptimizer(self.learning_rate).minimize(self.cost)\n",
    "                \n",
    "            # create a summary for our cost, im, reconstruction, & weights\n",
    "            with tf.name_scope('cost_viz'):\n",
    "                tf.summary.scalar(\"cost\", self.cost)\n",
    "\n",
    "            with tf.name_scope('image_viz'):    \n",
    "                x_t = tf.reshape(self.x,(self.params['batchsize'],self.params['imxlen'],self.params['imylen'],1))\n",
    "                tf.summary.image(\"image\", x_t, max_outputs=self.params[\"batchsize\"])\n",
    "\n",
    "            with tf.name_scope('recon_viz'):\n",
    "                xp_t = tf.reshape(self.xp,(self.params['batchsize'],self.params['imxlen'],self.params['imylen'],1))\n",
    "                tf.summary.image(\"recon\", xp_t,max_outputs=self.params[\"batchsize\"])\n",
    "\n",
    "            with tf.name_scope('inweights_viz'):    \n",
    "                inwin_t = tf.reshape(tf.transpose(self.win),\n",
    "                                   (self.params['nneurons'],\n",
    "                                    self.params['imxlen'],\n",
    "                                    self.params['imylen'],1))\n",
    "                tf.summary.image(\"inweights\", inwin_t, max_outputs=self.params['nneurons'])\n",
    "                \n",
    "            with tf.name_scope('outweights_viz'):    \n",
    "                outwin_t = tf.reshape(self.wout,\n",
    "                                   (self.params['nneurons'],\n",
    "                                    self.params['imxlen'],\n",
    "                                    self.params['imylen'],1))\n",
    "                tf.summary.image(\"outweights\", outwin_t, max_outputs=self.params['nneurons'])\n",
    "\n",
    "            # merge all summaries into a single \"operation\" which we can execute in a session \n",
    "            self.summary_op = tf.summary.merge_all()\n",
    "\n",
    "        return(mygraph)\n"
   ]
  },
  {
   "cell_type": "code",
   "execution_count": 3,
   "metadata": {
    "nbpresent": {
     "id": "568567d6-c426-4653-8c8b-4457750a4435"
    },
    "scrolled": true
   },
   "outputs": [],
   "source": [
    "#make session and train model\n",
    "def train_model(aec):\n",
    "    with tf.device(\"/gpu:0\"):\n",
    "        config = tf.ConfigProto()\n",
    "        config.gpu_options.allow_growth = True #don't allocate the entire GPU's memory\n",
    "        config.log_device_placement=True #tell me where devices are placed\n",
    "        with tf.Session(graph = aec.graph, config=config) as sess:\n",
    "\n",
    "            #initialize vars\n",
    "            init = tf.global_variables_initializer()\n",
    "            sess.run(init)\n",
    "\n",
    "            #summary writer for tensorboard\n",
    "            writer = tf.summary.FileWriter(aec.params['savefolder'],\n",
    "                                           graph=tf.get_default_graph())\n",
    "\n",
    "            #save evolution of system over training\n",
    "            cost_evolution = []\n",
    "            wmean_evolution = []\n",
    "\n",
    "            inweights_evolution = []\n",
    "            outweights_evolution = []\n",
    "            inbias_evolution = []\n",
    "            activation_evolution = []\n",
    "            #gamma_evolution = []\n",
    "            #gamma_assign_evolution = []\n",
    "\n",
    "            activations = []\n",
    "\n",
    "            images = []\n",
    "            recons = []\n",
    "            print('neurons={}, noise_in={}, noise_out={}, lambda_w={}, lambda_act={}'\n",
    "                  .format(aec.params['nneurons'],\n",
    "                          aec.params['noise_x'],\n",
    "                          aec.params['noise_r'],\n",
    "                          aec.params['lambda_wgt'],\n",
    "                          aec.params['lambda_act']))\n",
    "\n",
    "            print('Training {} iterations in {} epochs... '.format(aec.params['iterations'],\n",
    "                                                                   aec.params['epochs']))\n",
    "            for epoch in range(aec.params['epochs']):\n",
    "                #print('Epoch {}: '.format(epoch+1))\n",
    "                np.random.shuffle(vhimgs)\n",
    "                for ii in range(aec.params['iterations']):\n",
    "\n",
    "                    #reshape our images for feeding to dict\n",
    "                    image = np.reshape(vhimgs[ii*aec.params['batchsize']:(1+ii)*aec.params['batchsize'],:,:],\n",
    "                                       (aec.params['batchsize'],\n",
    "                                        aec.params['imxlen']*aec.params['imylen'])).astype(np.float32)\n",
    "\n",
    "                    #setup params to send to dictionary\n",
    "                    feeddict = {aec.x: image}\n",
    "\n",
    "                    #run our session\n",
    "                    sess.run(aec.train_step, feed_dict=feeddict)\n",
    "\n",
    "                    #save evolution of params\n",
    "                    objcost, inws, acts = sess.run([aec.recon_err, aec.win, aec.yin], feed_dict=feeddict)  #aec.cost\n",
    "                    cost_evolution.append(objcost)\n",
    "                    wmean_evolution.append(np.mean(np.abs(inws)))\n",
    "\n",
    "                    activations.append(np.mean(acts,axis=0))\n",
    "\n",
    "                    #save detailed parameters 10 times over the total evolution\n",
    "                    if(ii%(int((aec.params['iterations']*aec.params['epochs'])/10))==0):\n",
    "                        print(str(ii)+', ',end=\"\")\n",
    "                        #dump our params\n",
    "                        win, wout, img, recon, inbias, activation = sess.run([aec.win, aec.wout, aec.x, aec.xp, aec.inbias, aec.activation], feed_dict=feeddict)\n",
    "                        #save our weights, image, and reconstruction\n",
    "                        inweights_evolution.append(win)\n",
    "                        outweights_evolution.append(wout)\n",
    "                        inbias_evolution.append(inbias)\n",
    "                        activation_evolution.append(activation)\n",
    "\n",
    "                        imshape = [aec.params['batchsize'],\n",
    "                                   aec.params['imxlen'],\n",
    "                                   aec.params['imylen']]           \n",
    "                        images.append(np.reshape(img, imshape))\n",
    "                        recons.append(np.reshape(recon, imshape))\n",
    "\n",
    "            #summarize final params\n",
    "            print('Saving...')\n",
    "            summary, objcost, inws, outws, acts = sess.run([aec.summary_op, aec.cost, aec.win, aec.wout, aec.yin], feed_dict=feeddict)\n",
    "            cost_evolution.append(objcost)\n",
    "            wmean_evolution.append(np.mean(inws))\n",
    "            final_acts = np.mean(acts,axis=0)\n",
    "            activations.append(final_acts)\n",
    "            final_inweights_ordered = inws[:,np.argsort(-final_acts)] #reorder based on activations\n",
    "            final_outweights_ordered = outws.T[:,np.argsort(-final_acts)] #reorder based on activations\n",
    "            writer.add_summary(summary,ii)\n",
    "            writer.close()\n",
    "\n",
    "            print('Training Finished...')\n",
    "\n",
    "            return(cost_evolution,\n",
    "                   activations,\n",
    "                   wmean_evolution,\n",
    "                   inweights_evolution,\n",
    "                   outweights_evolution,\n",
    "                   images,\n",
    "                   recons,\n",
    "                   final_inweights_ordered,\n",
    "                   final_outweights_ordered,\n",
    "                   inbias_evolution, \n",
    "                   activation_evolution\n",
    "                   )"
   ]
  },
  {
   "cell_type": "code",
   "execution_count": null,
   "metadata": {
    "nbpresent": {
     "id": "56b0ff68-450c-48b0-b089-885192fec713"
    },
    "scrolled": false
   },
   "outputs": [
    {
     "name": "stdout",
     "output_type": "stream",
     "text": [
      "Loading Natural Image Database...\n",
      "(100, 1024, 1536)\n",
      "normalizing full images...\n",
      "sectioning into patches....\n",
      "now we have 614400 patches\n",
      "Done Loading!\n",
      "Done Shuffling!\n",
      "Images Ready.\n"
     ]
    }
   ],
   "source": [
    "#set parameters for parameter sweep\n",
    "params = {} #make a dictionary\n",
    "\n",
    "#parameters constant for all\n",
    "params[\"patchsize\"] = 16\n",
    "params[\"ims\"] = ims\n",
    "\n",
    "\n",
    "params[\"patch_multiplier\"] = patch_multiplier\n",
    "\n",
    "with tf.device('/cpu:0'):\n",
    "    try:\n",
    "        vhimgs\n",
    "    except NameError:\n",
    "        vhimgs, nimages = imr.check_n_load_ims(params['ims'], params['patchsize'], params['patch_multiplier'])\n",
    "\n",
    "params[\"nimages\"] = nimages\n",
    "params[\"imxlen\"] = params[\"patchsize\"]\n",
    "params[\"imylen\"] = params[\"patchsize\"]\n",
    "\n",
    "#params for sweeping\n",
    "sweep_neurons = [100]\n",
    "sweep_nonlin1 = ['sigmoid','relu'] #'sigmoid',\n",
    "sweep_nonlin2 = ['linear']\n",
    "sweep_lambda_wgt_act = [[0,0],[0,0.1],[0.1,0]] #[0,0],[0.1,0],\n",
    "bsis = [1000] #[100, 500, 1000] #100, 1000\n",
    "sweep_batch_its = [[bsz, int((np.int(params['nimages']/bsz)))] for bsz in bsis] \n",
    "sweep_epochs = [30]\n",
    "sweep_learning_rates = [0.01] #, 0.001, 0.005, 0.01, 0.015] \n",
    "sweep_noise_xs_rs = [[0,0],[0.2,1]] #,[0.1,0.5],[0.2,1]]#,[0.5,2]] #[[0.,0.], [0.05,0.5], [0.2,1], [0.3,2.5]] #[0.,0.], [0.05,0.5], [0.2,1], [0.3,2.5]"
   ]
  },
  {
   "cell_type": "code",
   "execution_count": null,
   "metadata": {
    "nbpresent": {
     "id": "a0bda622-47f4-44d3-b3f8-3f0a503901bd"
    },
    "scrolled": false
   },
   "outputs": [
    {
     "name": "stdout",
     "output_type": "stream",
     "text": [
      "Compressing by 2.56 for a total of 100 neurons\n",
      "neurons=100, noise_in=0, noise_out=0, lambda_w=0, lambda_act=0\n",
      "Training 614 iterations in 30 epochs... \n",
      "0, 0, 0, 0, 0, 0, 0, 0, 0, 0, 0, 0, 0, 0, 0, 0, 0, 0, 0, 0, 0, 0, 0, 0, 0, 0, 0, 0, 0, 0, Saving...\n",
      "Done!\n",
      "saving plots\n",
      "Compressing by 2.56 for a total of 100 neurons\n",
      "neurons=100, noise_in=0.2, noise_out=1, lambda_w=0, lambda_act=0\n",
      "Training 614 iterations in 30 epochs... \n",
      "0, 0, 0, 0, 0, 0, 0, 0, 0, 0, 0, 0, 0, 0, 0, 0, 0, 0, 0, 0, 0, 0, 0, 0, 0, 0, 0, 0, 0, 0, Saving...\n",
      "Done!\n",
      "saving plots\n",
      "Compressing by 2.56 for a total of 100 neurons\n",
      "neurons=100, noise_in=0, noise_out=0, lambda_w=0, lambda_act=0.1\n",
      "Training 614 iterations in 30 epochs... \n",
      "0, 0, 0, 0, 0, "
     ]
    }
   ],
   "source": [
    "for neurons in sweep_neurons:\n",
    "    params['nneurons'] = neurons\n",
    "    for nonlin1 in sweep_nonlin1:\n",
    "        params['nonlin1'] = nonlin1\n",
    "        for nonlin2 in sweep_nonlin2:\n",
    "            params['nonlin2'] = nonlin2\n",
    "            for lambda_wgt,lambda_act in sweep_lambda_wgt_act:\n",
    "                params['lambda_wgt'] = lambda_wgt    \n",
    "                params['lambda_act'] = lambda_act\n",
    "                for batchsize, iterations in sweep_batch_its:\n",
    "                    params['batchsize'] = batchsize\n",
    "                    params['iterations'] = iterations\n",
    "                    for epos in sweep_epochs:\n",
    "                        params['epochs'] = epos\n",
    "                        for lr in sweep_learning_rates:\n",
    "                            params['learning_rate'] = lr\n",
    "                            for xs,rs in sweep_noise_xs_rs:\n",
    "                                params['noise_x'] = xs\n",
    "                                params['noise_r'] = rs\n",
    "\n",
    "                                #make our model\n",
    "                                aec = aec_model(params)\n",
    "                                #train it'\n",
    "                                [cost_evolution,\n",
    "                                 activations,\n",
    "                                 wmean_evolution,\n",
    "                                 inweights_evolution,\n",
    "                                 outweights_evolution,\n",
    "                                 images,\n",
    "                                 recons,\n",
    "                                 final_inweights_ordered,\n",
    "                                 final_outweights_ordered, \n",
    "                                 inbias_evolution, \n",
    "                                 activation_evolution] = train_model(aec)\n",
    "\n",
    "                                #save model\n",
    "                                print('Saving Plots...')\n",
    "                                plu.save_plots(aec,\n",
    "                                               activations,\n",
    "                                               cost_evolution,\n",
    "                                               wmean_evolution,\n",
    "                                               inweights_evolution,\n",
    "                                               outweights_evolution,\n",
    "                                               images,\n",
    "                                               recons,\n",
    "                                               final_inweights_ordered,\n",
    "                                               final_outweights_ordered,\n",
    "                                               inbias_evolution, \n",
    "                                               activation_evolution)\n",
    "                                print('Run Finished!')\n",
    "print(\"*** Parameter Sweep Finished! ***\")"
   ]
  },
  {
   "cell_type": "code",
   "execution_count": null,
   "metadata": {},
   "outputs": [],
   "source": [
    "imp.reload(plu)\n",
    "plu.save_plots(aec,\n",
    "               activations,\n",
    "               cost_evolution,\n",
    "               wmean_evolution,\n",
    "               inweights_evolution,\n",
    "               outweights_evolution,\n",
    "               images,\n",
    "               recons,\n",
    "               final_inweights_ordered,\n",
    "               final_outweights_ordered,\n",
    "               inbias_evolution, \n",
    "               activation_evolution)"
   ]
  },
  {
   "cell_type": "code",
   "execution_count": null,
   "metadata": {},
   "outputs": [],
   "source": [
    "fw = final_outweights_ordered.reshape(aec.params['imxlen'],\n",
    "                                  aec.params['imylen'],\n",
    "                                  aec.params['nneurons']).T\n",
    "final_acts = activations[-1]\n",
    "plu.display_data_tiled(fw,final_acts[np.argsort(-final_acts)])"
   ]
  },
  {
   "cell_type": "code",
   "execution_count": null,
   "metadata": {},
   "outputs": [],
   "source": [
    "onoff = plu.plotonoff(fw)"
   ]
  },
  {
   "cell_type": "code",
   "execution_count": null,
   "metadata": {},
   "outputs": [],
   "source": [
    "distmat = plu.measure_plot_dist(fw,'euclidean',plot=True)"
   ]
  },
  {
   "cell_type": "code",
   "execution_count": null,
   "metadata": {},
   "outputs": [],
   "source": [
    "distmat = plu.measure_plot_dist(fw,'correlation',plot=True)"
   ]
  },
  {
   "cell_type": "code",
   "execution_count": null,
   "metadata": {},
   "outputs": [],
   "source": [
    "ccf = np.corrcoef(np.array(activations).T)\n",
    "plt.imshow(ccf)\n",
    "plt.colorbar()"
   ]
  },
  {
   "cell_type": "code",
   "execution_count": null,
   "metadata": {},
   "outputs": [],
   "source": []
  }
 ],
 "metadata": {
  "anaconda-cloud": {},
  "celltoolbar": "Raw Cell Format",
  "kernelspec": {
   "display_name": "Python [default]",
   "language": "python",
   "name": "python3"
  },
  "language_info": {
   "codemirror_mode": {
    "name": "ipython",
    "version": 3
   },
   "file_extension": ".py",
   "mimetype": "text/x-python",
   "name": "python",
   "nbconvert_exporter": "python",
   "pygments_lexer": "ipython3",
   "version": "3.5.4"
  },
  "nbpresent": {
   "slides": {},
   "themes": {
    "default": "992862de-eb8e-41c4-94b7-f37aa9e483e5",
    "theme": {
     "992862de-eb8e-41c4-94b7-f37aa9e483e5": {
      "backgrounds": {
       "dc7afa04-bf90-40b1-82a5-726e3cff5267": {
        "background-color": "31af15d2-7e15-44c5-ab5e-e04b16a89eff",
        "id": "dc7afa04-bf90-40b1-82a5-726e3cff5267"
       }
      },
      "id": "992862de-eb8e-41c4-94b7-f37aa9e483e5",
      "palette": {
       "19cc588f-0593-49c9-9f4b-e4d7cc113b1c": {
        "id": "19cc588f-0593-49c9-9f4b-e4d7cc113b1c",
        "rgb": [
         252,
         252,
         252
        ]
       },
       "31af15d2-7e15-44c5-ab5e-e04b16a89eff": {
        "id": "31af15d2-7e15-44c5-ab5e-e04b16a89eff",
        "rgb": [
         68,
         68,
         68
        ]
       },
       "50f92c45-a630-455b-aec3-788680ec7410": {
        "id": "50f92c45-a630-455b-aec3-788680ec7410",
        "rgb": [
         197,
         226,
         245
        ]
       },
       "c5cc3653-2ee1-402a-aba2-7caae1da4f6c": {
        "id": "c5cc3653-2ee1-402a-aba2-7caae1da4f6c",
        "rgb": [
         43,
         126,
         184
        ]
       },
       "efa7f048-9acb-414c-8b04-a26811511a21": {
        "id": "efa7f048-9acb-414c-8b04-a26811511a21",
        "rgb": [
         25.118061674008803,
         73.60176211453744,
         107.4819383259912
        ]
       }
      },
      "rules": {
       "a": {
        "color": "19cc588f-0593-49c9-9f4b-e4d7cc113b1c"
       },
       "blockquote": {
        "color": "50f92c45-a630-455b-aec3-788680ec7410",
        "font-size": 3
       },
       "code": {
        "font-family": "Anonymous Pro"
       },
       "h1": {
        "color": "19cc588f-0593-49c9-9f4b-e4d7cc113b1c",
        "font-family": "Merriweather",
        "font-size": 8
       },
       "h2": {
        "color": "19cc588f-0593-49c9-9f4b-e4d7cc113b1c",
        "font-family": "Merriweather",
        "font-size": 6
       },
       "h3": {
        "color": "50f92c45-a630-455b-aec3-788680ec7410",
        "font-family": "Lato",
        "font-size": 5.5
       },
       "h4": {
        "color": "c5cc3653-2ee1-402a-aba2-7caae1da4f6c",
        "font-family": "Lato",
        "font-size": 5
       },
       "h5": {
        "font-family": "Lato"
       },
       "h6": {
        "font-family": "Lato"
       },
       "h7": {
        "font-family": "Lato"
       },
       "li": {
        "color": "50f92c45-a630-455b-aec3-788680ec7410",
        "font-size": 3.25
       },
       "pre": {
        "font-family": "Anonymous Pro",
        "font-size": 4
       }
      },
      "text-base": {
       "color": "19cc588f-0593-49c9-9f4b-e4d7cc113b1c",
       "font-family": "Lato",
       "font-size": 4
      }
     }
    }
   }
  }
 },
 "nbformat": 4,
 "nbformat_minor": 1
}
