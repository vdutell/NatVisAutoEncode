{
 "cells": [
  {
   "cell_type": "markdown",
   "metadata": {
    "nbpresent": {
     "id": "987ee2ce-0a6d-42b6-bd81-57697b12b074"
    }
   },
   "source": [
    "$$ y_{in} = F_{act}((I+n_{in} W_{in}) + bias) $$\n",
    "\n",
    "$$ I^* = (W_{out}y_{in}) + n_{out} $$\n",
    "\n",
    "$$ Cost = \\sqrt{\\langle|I-I^*|\\rangle} + \\lambda \\langle r_s \\rangle + \\lambda \\langle r_w \\rangle$$"
   ]
  },
  {
   "cell_type": "code",
   "execution_count": 2,
   "metadata": {
    "nbpresent": {
     "id": "f5898fbf-e665-436e-a842-265873ca6774"
    }
   },
   "outputs": [
    {
     "name": "stdout",
     "output_type": "stream",
     "text": [
      "env: CUDA_VISIBLE_DEVICES=0\n"
     ]
    }
   ],
   "source": [
    "#Dependencies\n",
    "import os\n",
    "\n",
    "import numpy as np\n",
    "import pylab as pl\n",
    "import tensorflow as tf\n",
    "import matplotlib.pyplot as plt\n",
    "import scipy as scipy\n",
    "\n",
    "import sklearn.cluster as sklclu\n",
    "\n",
    "import utils.plotutils as plu\n",
    "import utils.imreadin as imr\n",
    "import utils.aec as aec\n",
    "import utils.train_model as tm\n",
    "#import utils.dirutils as diru\n",
    "\n",
    "#code to reload\n",
    "import imp\n",
    "imp.reload(plu)\n",
    "imp.reload(imr)\n",
    "\n",
    "#code to limit number of CPUs\n",
    "maxcpus = 1\n",
    "%env CUDA_VISIBLE_DEVICES=0\n",
    "\n",
    "#image files\n",
    "#ims = 'vh_corr'\n",
    "#ims = 'vh_uncorr'\n",
    "#ims = 'vhlognorm'\n",
    "#ims = 'kyoto'\n",
    "ims = 'whitenoise'\n",
    "\n",
    "patch_multiplier = 1\n",
    "\n",
    "%matplotlib inline\n",
    "%config InlineBackend.print_figure_kwargs = {'dpi' : 200} #plotting pretty"
   ]
  },
  {
   "cell_type": "code",
   "execution_count": 3,
   "metadata": {
    "nbpresent": {
     "id": "56b0ff68-450c-48b0-b089-885192fec713"
    },
    "scrolled": false
   },
   "outputs": [
    {
     "name": "stdout",
     "output_type": "stream",
     "text": [
      "Loading Natural Image Database...\n",
      "sectioning into patches....\n",
      "now we have 6250000 patches\n",
      "Done Loading!\n",
      "Done Shuffling!\n",
      "Loading Natural Image Database...\n",
      "sectioning into patches....\n",
      "now we have 6250000 patches\n",
      "Done Loading!\n",
      "Done Shuffling!\n"
     ]
    }
   ],
   "source": [
    "#parameters constant for all\n",
    "imsparm = ims\n",
    "patchparm = 4\n",
    "fullimnormparm = False\n",
    "patchmultiplierparm = 1\n",
    "colorinvertparm = False\n",
    "\n",
    "with tf.device('/cpu:0'):\n",
    "    try:\n",
    "        vhimgs\n",
    "    except NameError:\n",
    "        vhimgs, nimages = imr.load_images(imset = imsparm,\n",
    "                                          patch_edge_size = patchparm,\n",
    "                                          normalize_im = fullimnormparm,\n",
    "                                          patch_multiplier = patchmultiplierparm,\n",
    "                                          normalize_patch = False,\n",
    "                                          invert_colors = False,\n",
    "                                          start = 0,\n",
    "                                          subset = 1000\n",
    "                                         )\n",
    "        \n",
    "        tvhimgs, tnimages = imr.load_images(imset = imsparm,\n",
    "                                            patch_edge_size = patchparm,\n",
    "                                            normalize_im = fullimnormparm,\n",
    "                                            patch_multiplier = patchmultiplierparm,\n",
    "                                            normalize_patch = False,\n",
    "                                            invert_colors = False,\n",
    "                                            start = 5000,\n",
    "                                            subset = 10\n",
    "                                           )\n",
    "\n",
    "        #only make anew dict and change these in params dict if we have reloaded images.\n",
    "        params = {} #make a new dictionary\n",
    "        #fill up our new dictionary\n",
    "        params[\"ims\"] = imsparm\n",
    "        params['nimgs'] = np.shape(vhimgs)[0]\n",
    "        params['normalize_full_im'] = fullimnormparm\n",
    "        params[\"patchsize\"] = patchparm\n",
    "        params['patch_multiplier'] = patchmultiplierparm\n",
    "        params['colorinvert'] = colorinvertparm\n",
    "\n",
    "\n",
    "params[\"nimages\"] = nimages\n",
    "params[\"imxlen\"] = params[\"patchsize\"]\n",
    "params[\"imylen\"] = params[\"patchsize\"]\n",
    "\n",
    "#params for sweeping\n",
    "sweep_neurons = [8,16,32] #[100] #[50,100,200] #[50,75,100,150,200]\n",
    "sweep_nonlin1 = ['linear', 'sigmoid'] #['linear','sigmoid','relu'] , #'sigmoid',\n",
    "sweep_nonlin2 = ['linear']\n",
    "sweep_lambda_wgt_act = [[0,0]]; # [0.1,0] for center surround.\n",
    "bsis = [1000]\n",
    "sweep_batch_its = [[bsz, int((np.int(params['nimages']/bsz)))] for bsz in bsis] \n",
    "sweep_epochs = [1]\n",
    "sweep_learning_rates = [0.001] #, 0.001, 0.005, 0.01, 0.015] \n",
    "sweep_noise_xs_rs = [[0,0]] #[[0,0],[0.1,0],[0.01,0],[0,0.1],[0,0.01]] \n"
   ]
  },
  {
   "cell_type": "code",
   "execution_count": 4,
   "metadata": {
    "nbpresent": {
     "id": "a0bda622-47f4-44d3-b3f8-3f0a503901bd"
    },
    "scrolled": false
   },
   "outputs": [
    {
     "name": "stdout",
     "output_type": "stream",
     "text": [
      "Compressing by 2.0 for a total of 8 neurons\n",
      "neurons=8, noise_in=0, noise_out=0, lambda_w=0, lambda_act=0\n",
      "Training 6250 iterations in 1 epochs... \n",
      "0, 625, 1250, 1875, 2500, 3125, 3750, 4375, 5000, 5625, Running Test Set...\n",
      "Saving Plots...\n"
     ]
    },
    {
     "name": "stderr",
     "output_type": "stream",
     "text": [
      "/home/vasha/anaconda3/lib/python3.5/site-packages/matplotlib/axes/_axes.py:6201: RuntimeWarning: invalid value encountered in true_divide\n",
      "  m = (m.astype(float) / db) / m.sum()\n"
     ]
    },
    {
     "name": "stdout",
     "output_type": "stream",
     "text": [
      "Run Finished!\n"
     ]
    },
    {
     "ename": "AttributeError",
     "evalue": "'aec_model' object has no attribute 'aec_model'",
     "output_type": "error",
     "traceback": [
      "\u001b[0;31m---------------------------------------------------------------------------\u001b[0m",
      "\u001b[0;31mAttributeError\u001b[0m                            Traceback (most recent call last)",
      "\u001b[0;32m<ipython-input-4-4da88e2d9e9e>\u001b[0m in \u001b[0;36m<module>\u001b[0;34m()\u001b[0m\n\u001b[1;32m     20\u001b[0m \u001b[0;34m\u001b[0m\u001b[0m\n\u001b[1;32m     21\u001b[0m                                 \u001b[0;31m#make our model\u001b[0m\u001b[0;34m\u001b[0m\u001b[0;34m\u001b[0m\u001b[0m\n\u001b[0;32m---> 22\u001b[0;31m                                 \u001b[0mencoding_model\u001b[0m \u001b[0;34m=\u001b[0m \u001b[0maec\u001b[0m\u001b[0;34m.\u001b[0m\u001b[0maec_model\u001b[0m\u001b[0;34m(\u001b[0m\u001b[0mparams\u001b[0m\u001b[0;34m)\u001b[0m\u001b[0;34m\u001b[0m\u001b[0m\n\u001b[0m\u001b[1;32m     23\u001b[0m \u001b[0;34m\u001b[0m\u001b[0m\n\u001b[1;32m     24\u001b[0m                                 \u001b[0;31m#train it'\u001b[0m\u001b[0;34m\u001b[0m\u001b[0;34m\u001b[0m\u001b[0m\n",
      "\u001b[0;31mAttributeError\u001b[0m: 'aec_model' object has no attribute 'aec_model'"
     ]
    }
   ],
   "source": [
    "for neurons in sweep_neurons:\n",
    "    params['nneurons'] = neurons\n",
    "    for nonlin1 in sweep_nonlin1:\n",
    "        params['nonlin1'] = nonlin1\n",
    "        for nonlin2 in sweep_nonlin2:\n",
    "            params['nonlin2'] = nonlin2\n",
    "            for lambda_wgt,lambda_act in sweep_lambda_wgt_act:\n",
    "                params['lambda_wgt'] = lambda_wgt    \n",
    "                params['lambda_act'] = lambda_act\n",
    "                for batchsize, iterations in sweep_batch_its:\n",
    "                    params['batchsize'] = batchsize\n",
    "                    params['iterations'] = iterations\n",
    "                    for epos in sweep_epochs:\n",
    "                        params['epochs'] = epos\n",
    "                        for lr in sweep_learning_rates:\n",
    "                            params['learning_rate'] = lr\n",
    "                            for xs,rs in sweep_noise_xs_rs:\n",
    "                                params['noise_x'] = xs\n",
    "                                params['noise_r'] = rs\n",
    "\n",
    "                                #make our model\n",
    "                                encoding_model = aec.aec_model(params)\n",
    "                                \n",
    "                                #train it'\n",
    "                                [aec,\n",
    "                                cost_evolution,\n",
    "                                wmean_evolution,\n",
    "                                inweights_evolution,\n",
    "                                outweights_evolution,                   \n",
    "                                activation_evolution,\n",
    "                                inbias_evolution,\n",
    "                                weights_kernel_in,\n",
    "                                test_patches,\n",
    "                                test_recons,\n",
    "                                test_inweights_ordered,\n",
    "                                test_outweights_ordered,\n",
    "                                test_acts_ordered,\n",
    "                                test_acts] = tm.train_model(encoding_model,vhimgs,tvhimgs)\n",
    "\n",
    "                                #save model\n",
    "                                print('Saving Plots...')\n",
    "                                plu.save_plots(encoding_model,\n",
    "                                               cost_evolution,\n",
    "                                               wmean_evolution,\n",
    "                                               inweights_evolution,\n",
    "                                               outweights_evolution,\n",
    "                                               activation_evolution,\n",
    "                                               inbias_evolution,\n",
    "                                               weights_kernel_in,\n",
    "                                               test_patches,\n",
    "                                               test_recons,\n",
    "                                               test_inweights_ordered,\n",
    "                                               test_outweights_ordered,\n",
    "                                               test_acts_ordered)\n",
    "                                \n",
    "                                print('Run Finished!')\n",
    "print(\"*** Parameter Sweep Finished! ***\")"
   ]
  },
  {
   "cell_type": "code",
   "execution_count": null,
   "metadata": {},
   "outputs": [],
   "source": [
    "np.shape(test_acts_ordered)"
   ]
  },
  {
   "cell_type": "code",
   "execution_count": null,
   "metadata": {},
   "outputs": [],
   "source": [
    "imp.reload(plu)\n",
    "fw = test_inweights_ordered.reshape(aec.params['imxlen'],\n",
    "                                     aec.params['imylen'],\n",
    "                                     aec.params['nneurons']).T\n",
    "p = plu.display_data_acts_tiled(fw,np.mean(test_acts_ordered,axis=0))"
   ]
  },
  {
   "cell_type": "code",
   "execution_count": null,
   "metadata": {},
   "outputs": [],
   "source": [
    "bw = test_outweights_ordered.reshape(aec.params['imxlen'],\n",
    "                                     aec.params['imylen'],\n",
    "                                     aec.params['nneurons']).T\n",
    "p = plu.plot_tiled_rfs(fw)"
   ]
  },
  {
   "cell_type": "code",
   "execution_count": null,
   "metadata": {},
   "outputs": [],
   "source": [
    "p = plt.plot(wmean_evolution)"
   ]
  },
  {
   "cell_type": "code",
   "execution_count": null,
   "metadata": {},
   "outputs": [],
   "source": [
    "p = plt.plot(np.log(cost_evolution))"
   ]
  },
  {
   "cell_type": "code",
   "execution_count": null,
   "metadata": {},
   "outputs": [],
   "source": [
    "imp.reload(plu)\n",
    "onofflabel, onoff = plu.plotonoff(fw)"
   ]
  },
  {
   "cell_type": "code",
   "execution_count": null,
   "metadata": {},
   "outputs": [],
   "source": [
    "distmat, plot = plu.measure_plot_dist(fw, norm=1)"
   ]
  },
  {
   "cell_type": "code",
   "execution_count": null,
   "metadata": {},
   "outputs": [],
   "source": [
    "#Uniformly distributed Random\n",
    "r = np.random.rand(*fw.shape)\n",
    "distmat, plot = plu.measure_plot_dist(r, norm=1)"
   ]
  },
  {
   "cell_type": "code",
   "execution_count": null,
   "metadata": {},
   "outputs": [],
   "source": [
    "#normally distributed Random\n",
    "r = np.random.randn(*fw.shape)\n",
    "distmat, plot = plu.measure_plot_dist(r, norm=1)"
   ]
  },
  {
   "cell_type": "code",
   "execution_count": null,
   "metadata": {},
   "outputs": [],
   "source": [
    "p = plu.plot_dist_embeddings(distmat, onofflabel, n_neighbors=5)"
   ]
  },
  {
   "cell_type": "markdown",
   "metadata": {},
   "source": [
    "## Look at Activations"
   ]
  },
  {
   "cell_type": "code",
   "execution_count": null,
   "metadata": {},
   "outputs": [],
   "source": [
    "p = plu.test_activation_distributions(test_acts_ordered, onofflabel, plotother=False, norming=True)"
   ]
  },
  {
   "cell_type": "markdown",
   "metadata": {},
   "source": [
    "## Look at Distances Between Activations"
   ]
  },
  {
   "cell_type": "code",
   "execution_count": null,
   "metadata": {},
   "outputs": [],
   "source": [
    "print(np.shape(actv))\n",
    "pactv = actv[:,:1000]\n",
    "print(np.shape(pactv))"
   ]
  },
  {
   "cell_type": "code",
   "execution_count": null,
   "metadata": {},
   "outputs": [],
   "source": [
    "act_distmat, p = plu.measure_plot_dist(np.array(pactv).T,norm=2)"
   ]
  },
  {
   "cell_type": "code",
   "execution_count": null,
   "metadata": {},
   "outputs": [],
   "source": [
    "#calcuate Johnson Bound for L1 norm (instead of Hamming)\n",
    "#blocklength\n",
    "n = act_distmat.shape[0]\n",
    "#dimension k\n",
    "k = fw.reshape(fw.shape[0],-1).shape[0]\n",
    "#rate p\n",
    "p = k/n\n",
    "#min distance\n",
    "dmin = min(distmat.flatten())\n",
    "#size of code C\n",
    "sizec = distmat.shape[1]\n",
    "#alphabet size q"
   ]
  },
  {
   "cell_type": "code",
   "execution_count": null,
   "metadata": {},
   "outputs": [],
   "source": [
    "p = plu.plot_dist_embeddings(act_distmat, np.ones(act_distmat.shape[0]), n_neighbors=5)"
   ]
  },
  {
   "cell_type": "code",
   "execution_count": null,
   "metadata": {},
   "outputs": [],
   "source": []
  },
  {
   "cell_type": "code",
   "execution_count": null,
   "metadata": {},
   "outputs": [],
   "source": []
  },
  {
   "cell_type": "code",
   "execution_count": null,
   "metadata": {},
   "outputs": [],
   "source": []
  }
 ],
 "metadata": {
  "anaconda-cloud": {},
  "celltoolbar": "Raw Cell Format",
  "kernelspec": {
   "display_name": "Python [default]",
   "language": "python",
   "name": "python3"
  },
  "language_info": {
   "codemirror_mode": {
    "name": "ipython",
    "version": 3
   },
   "file_extension": ".py",
   "mimetype": "text/x-python",
   "name": "python",
   "nbconvert_exporter": "python",
   "pygments_lexer": "ipython3",
   "version": "3.5.4"
  },
  "nbpresent": {
   "slides": {},
   "themes": {
    "default": "992862de-eb8e-41c4-94b7-f37aa9e483e5",
    "theme": {
     "992862de-eb8e-41c4-94b7-f37aa9e483e5": {
      "backgrounds": {
       "dc7afa04-bf90-40b1-82a5-726e3cff5267": {
        "background-color": "31af15d2-7e15-44c5-ab5e-e04b16a89eff",
        "id": "dc7afa04-bf90-40b1-82a5-726e3cff5267"
       }
      },
      "id": "992862de-eb8e-41c4-94b7-f37aa9e483e5",
      "palette": {
       "19cc588f-0593-49c9-9f4b-e4d7cc113b1c": {
        "id": "19cc588f-0593-49c9-9f4b-e4d7cc113b1c",
        "rgb": [
         252,
         252,
         252
        ]
       },
       "31af15d2-7e15-44c5-ab5e-e04b16a89eff": {
        "id": "31af15d2-7e15-44c5-ab5e-e04b16a89eff",
        "rgb": [
         68,
         68,
         68
        ]
       },
       "50f92c45-a630-455b-aec3-788680ec7410": {
        "id": "50f92c45-a630-455b-aec3-788680ec7410",
        "rgb": [
         197,
         226,
         245
        ]
       },
       "c5cc3653-2ee1-402a-aba2-7caae1da4f6c": {
        "id": "c5cc3653-2ee1-402a-aba2-7caae1da4f6c",
        "rgb": [
         43,
         126,
         184
        ]
       },
       "efa7f048-9acb-414c-8b04-a26811511a21": {
        "id": "efa7f048-9acb-414c-8b04-a26811511a21",
        "rgb": [
         25.118061674008803,
         73.60176211453744,
         107.4819383259912
        ]
       }
      },
      "rules": {
       "a": {
        "color": "19cc588f-0593-49c9-9f4b-e4d7cc113b1c"
       },
       "blockquote": {
        "color": "50f92c45-a630-455b-aec3-788680ec7410",
        "font-size": 3
       },
       "code": {
        "font-family": "Anonymous Pro"
       },
       "h1": {
        "color": "19cc588f-0593-49c9-9f4b-e4d7cc113b1c",
        "font-family": "Merriweather",
        "font-size": 8
       },
       "h2": {
        "color": "19cc588f-0593-49c9-9f4b-e4d7cc113b1c",
        "font-family": "Merriweather",
        "font-size": 6
       },
       "h3": {
        "color": "50f92c45-a630-455b-aec3-788680ec7410",
        "font-family": "Lato",
        "font-size": 5.5
       },
       "h4": {
        "color": "c5cc3653-2ee1-402a-aba2-7caae1da4f6c",
        "font-family": "Lato",
        "font-size": 5
       },
       "h5": {
        "font-family": "Lato"
       },
       "h6": {
        "font-family": "Lato"
       },
       "h7": {
        "font-family": "Lato"
       },
       "li": {
        "color": "50f92c45-a630-455b-aec3-788680ec7410",
        "font-size": 3.25
       },
       "pre": {
        "font-family": "Anonymous Pro",
        "font-size": 4
       }
      },
      "text-base": {
       "color": "19cc588f-0593-49c9-9f4b-e4d7cc113b1c",
       "font-family": "Lato",
       "font-size": 4
      }
     }
    }
   }
  }
 },
 "nbformat": 4,
 "nbformat_minor": 1
}
